{
  "nbformat": 4,
  "nbformat_minor": 0,
  "metadata": {
    "colab": {
      "provenance": [],
      "machine_shape": "hm",
      "collapsed_sections": []
    },
    "kernelspec": {
      "name": "python3",
      "display_name": "Python 3"
    },
    "language_info": {
      "name": "python"
    },
    "accelerator": "GPU",
    "gpuClass": "standard",
    "widgets": {
      "application/vnd.jupyter.widget-state+json": {
        "f4db063ccc47443095d153da7b534357": {
          "model_module": "@jupyter-widgets/controls",
          "model_name": "HBoxModel",
          "model_module_version": "1.5.0",
          "state": {
            "_dom_classes": [],
            "_model_module": "@jupyter-widgets/controls",
            "_model_module_version": "1.5.0",
            "_model_name": "HBoxModel",
            "_view_count": null,
            "_view_module": "@jupyter-widgets/controls",
            "_view_module_version": "1.5.0",
            "_view_name": "HBoxView",
            "box_style": "",
            "children": [
              "IPY_MODEL_1a387f19294e40de9ffc64c6ab751633",
              "IPY_MODEL_ffd59e22323d42d99f18431344b00e22",
              "IPY_MODEL_68c063d3da3d49539b6faa27dd6f69d4"
            ],
            "layout": "IPY_MODEL_588a3d9cb5264ee692ede808467317a9"
          }
        },
        "1a387f19294e40de9ffc64c6ab751633": {
          "model_module": "@jupyter-widgets/controls",
          "model_name": "HTMLModel",
          "model_module_version": "1.5.0",
          "state": {
            "_dom_classes": [],
            "_model_module": "@jupyter-widgets/controls",
            "_model_module_version": "1.5.0",
            "_model_name": "HTMLModel",
            "_view_count": null,
            "_view_module": "@jupyter-widgets/controls",
            "_view_module_version": "1.5.0",
            "_view_name": "HTMLView",
            "description": "",
            "description_tooltip": null,
            "layout": "IPY_MODEL_68f23e25c29b47808f736c3d2028f4e8",
            "placeholder": "​",
            "style": "IPY_MODEL_da02dfd288c74a099f588c6481cbe420",
            "value": "100%"
          }
        },
        "ffd59e22323d42d99f18431344b00e22": {
          "model_module": "@jupyter-widgets/controls",
          "model_name": "FloatProgressModel",
          "model_module_version": "1.5.0",
          "state": {
            "_dom_classes": [],
            "_model_module": "@jupyter-widgets/controls",
            "_model_module_version": "1.5.0",
            "_model_name": "FloatProgressModel",
            "_view_count": null,
            "_view_module": "@jupyter-widgets/controls",
            "_view_module_version": "1.5.0",
            "_view_name": "ProgressView",
            "bar_style": "success",
            "description": "",
            "description_tooltip": null,
            "layout": "IPY_MODEL_a3aea1547b4d49e2b6deb19fa361efc5",
            "max": 4100,
            "min": 0,
            "orientation": "horizontal",
            "style": "IPY_MODEL_7d6100264e5a4e20a0797fde7cb36e10",
            "value": 4100
          }
        },
        "68c063d3da3d49539b6faa27dd6f69d4": {
          "model_module": "@jupyter-widgets/controls",
          "model_name": "HTMLModel",
          "model_module_version": "1.5.0",
          "state": {
            "_dom_classes": [],
            "_model_module": "@jupyter-widgets/controls",
            "_model_module_version": "1.5.0",
            "_model_name": "HTMLModel",
            "_view_count": null,
            "_view_module": "@jupyter-widgets/controls",
            "_view_module_version": "1.5.0",
            "_view_name": "HTMLView",
            "description": "",
            "description_tooltip": null,
            "layout": "IPY_MODEL_49d15b63b6774937b5fee6a169c6a414",
            "placeholder": "​",
            "style": "IPY_MODEL_3572de8e822941eb859e7be2c3faf56a",
            "value": " 4100/4100 [02:56&lt;00:00, 21.61it/s]"
          }
        },
        "588a3d9cb5264ee692ede808467317a9": {
          "model_module": "@jupyter-widgets/base",
          "model_name": "LayoutModel",
          "model_module_version": "1.2.0",
          "state": {
            "_model_module": "@jupyter-widgets/base",
            "_model_module_version": "1.2.0",
            "_model_name": "LayoutModel",
            "_view_count": null,
            "_view_module": "@jupyter-widgets/base",
            "_view_module_version": "1.2.0",
            "_view_name": "LayoutView",
            "align_content": null,
            "align_items": null,
            "align_self": null,
            "border": null,
            "bottom": null,
            "display": null,
            "flex": null,
            "flex_flow": null,
            "grid_area": null,
            "grid_auto_columns": null,
            "grid_auto_flow": null,
            "grid_auto_rows": null,
            "grid_column": null,
            "grid_gap": null,
            "grid_row": null,
            "grid_template_areas": null,
            "grid_template_columns": null,
            "grid_template_rows": null,
            "height": null,
            "justify_content": null,
            "justify_items": null,
            "left": null,
            "margin": null,
            "max_height": null,
            "max_width": null,
            "min_height": null,
            "min_width": null,
            "object_fit": null,
            "object_position": null,
            "order": null,
            "overflow": null,
            "overflow_x": null,
            "overflow_y": null,
            "padding": null,
            "right": null,
            "top": null,
            "visibility": null,
            "width": null
          }
        },
        "68f23e25c29b47808f736c3d2028f4e8": {
          "model_module": "@jupyter-widgets/base",
          "model_name": "LayoutModel",
          "model_module_version": "1.2.0",
          "state": {
            "_model_module": "@jupyter-widgets/base",
            "_model_module_version": "1.2.0",
            "_model_name": "LayoutModel",
            "_view_count": null,
            "_view_module": "@jupyter-widgets/base",
            "_view_module_version": "1.2.0",
            "_view_name": "LayoutView",
            "align_content": null,
            "align_items": null,
            "align_self": null,
            "border": null,
            "bottom": null,
            "display": null,
            "flex": null,
            "flex_flow": null,
            "grid_area": null,
            "grid_auto_columns": null,
            "grid_auto_flow": null,
            "grid_auto_rows": null,
            "grid_column": null,
            "grid_gap": null,
            "grid_row": null,
            "grid_template_areas": null,
            "grid_template_columns": null,
            "grid_template_rows": null,
            "height": null,
            "justify_content": null,
            "justify_items": null,
            "left": null,
            "margin": null,
            "max_height": null,
            "max_width": null,
            "min_height": null,
            "min_width": null,
            "object_fit": null,
            "object_position": null,
            "order": null,
            "overflow": null,
            "overflow_x": null,
            "overflow_y": null,
            "padding": null,
            "right": null,
            "top": null,
            "visibility": null,
            "width": null
          }
        },
        "da02dfd288c74a099f588c6481cbe420": {
          "model_module": "@jupyter-widgets/controls",
          "model_name": "DescriptionStyleModel",
          "model_module_version": "1.5.0",
          "state": {
            "_model_module": "@jupyter-widgets/controls",
            "_model_module_version": "1.5.0",
            "_model_name": "DescriptionStyleModel",
            "_view_count": null,
            "_view_module": "@jupyter-widgets/base",
            "_view_module_version": "1.2.0",
            "_view_name": "StyleView",
            "description_width": ""
          }
        },
        "a3aea1547b4d49e2b6deb19fa361efc5": {
          "model_module": "@jupyter-widgets/base",
          "model_name": "LayoutModel",
          "model_module_version": "1.2.0",
          "state": {
            "_model_module": "@jupyter-widgets/base",
            "_model_module_version": "1.2.0",
            "_model_name": "LayoutModel",
            "_view_count": null,
            "_view_module": "@jupyter-widgets/base",
            "_view_module_version": "1.2.0",
            "_view_name": "LayoutView",
            "align_content": null,
            "align_items": null,
            "align_self": null,
            "border": null,
            "bottom": null,
            "display": null,
            "flex": null,
            "flex_flow": null,
            "grid_area": null,
            "grid_auto_columns": null,
            "grid_auto_flow": null,
            "grid_auto_rows": null,
            "grid_column": null,
            "grid_gap": null,
            "grid_row": null,
            "grid_template_areas": null,
            "grid_template_columns": null,
            "grid_template_rows": null,
            "height": null,
            "justify_content": null,
            "justify_items": null,
            "left": null,
            "margin": null,
            "max_height": null,
            "max_width": null,
            "min_height": null,
            "min_width": null,
            "object_fit": null,
            "object_position": null,
            "order": null,
            "overflow": null,
            "overflow_x": null,
            "overflow_y": null,
            "padding": null,
            "right": null,
            "top": null,
            "visibility": null,
            "width": null
          }
        },
        "7d6100264e5a4e20a0797fde7cb36e10": {
          "model_module": "@jupyter-widgets/controls",
          "model_name": "ProgressStyleModel",
          "model_module_version": "1.5.0",
          "state": {
            "_model_module": "@jupyter-widgets/controls",
            "_model_module_version": "1.5.0",
            "_model_name": "ProgressStyleModel",
            "_view_count": null,
            "_view_module": "@jupyter-widgets/base",
            "_view_module_version": "1.2.0",
            "_view_name": "StyleView",
            "bar_color": null,
            "description_width": ""
          }
        },
        "49d15b63b6774937b5fee6a169c6a414": {
          "model_module": "@jupyter-widgets/base",
          "model_name": "LayoutModel",
          "model_module_version": "1.2.0",
          "state": {
            "_model_module": "@jupyter-widgets/base",
            "_model_module_version": "1.2.0",
            "_model_name": "LayoutModel",
            "_view_count": null,
            "_view_module": "@jupyter-widgets/base",
            "_view_module_version": "1.2.0",
            "_view_name": "LayoutView",
            "align_content": null,
            "align_items": null,
            "align_self": null,
            "border": null,
            "bottom": null,
            "display": null,
            "flex": null,
            "flex_flow": null,
            "grid_area": null,
            "grid_auto_columns": null,
            "grid_auto_flow": null,
            "grid_auto_rows": null,
            "grid_column": null,
            "grid_gap": null,
            "grid_row": null,
            "grid_template_areas": null,
            "grid_template_columns": null,
            "grid_template_rows": null,
            "height": null,
            "justify_content": null,
            "justify_items": null,
            "left": null,
            "margin": null,
            "max_height": null,
            "max_width": null,
            "min_height": null,
            "min_width": null,
            "object_fit": null,
            "object_position": null,
            "order": null,
            "overflow": null,
            "overflow_x": null,
            "overflow_y": null,
            "padding": null,
            "right": null,
            "top": null,
            "visibility": null,
            "width": null
          }
        },
        "3572de8e822941eb859e7be2c3faf56a": {
          "model_module": "@jupyter-widgets/controls",
          "model_name": "DescriptionStyleModel",
          "model_module_version": "1.5.0",
          "state": {
            "_model_module": "@jupyter-widgets/controls",
            "_model_module_version": "1.5.0",
            "_model_name": "DescriptionStyleModel",
            "_view_count": null,
            "_view_module": "@jupyter-widgets/base",
            "_view_module_version": "1.2.0",
            "_view_name": "StyleView",
            "description_width": ""
          }
        },
        "5451e3cd595b41428159e2d65b58be74": {
          "model_module": "@jupyter-widgets/controls",
          "model_name": "HBoxModel",
          "model_module_version": "1.5.0",
          "state": {
            "_dom_classes": [],
            "_model_module": "@jupyter-widgets/controls",
            "_model_module_version": "1.5.0",
            "_model_name": "HBoxModel",
            "_view_count": null,
            "_view_module": "@jupyter-widgets/controls",
            "_view_module_version": "1.5.0",
            "_view_name": "HBoxView",
            "box_style": "",
            "children": [
              "IPY_MODEL_74f60c6dd55342d6a95360b83417807b",
              "IPY_MODEL_068451bbf3e44068936d6e27fef3c40d",
              "IPY_MODEL_61a00e0bd427432d8fdcdecef3510224"
            ],
            "layout": "IPY_MODEL_12a5494136a8419ab573048ca18b83cc"
          }
        },
        "74f60c6dd55342d6a95360b83417807b": {
          "model_module": "@jupyter-widgets/controls",
          "model_name": "HTMLModel",
          "model_module_version": "1.5.0",
          "state": {
            "_dom_classes": [],
            "_model_module": "@jupyter-widgets/controls",
            "_model_module_version": "1.5.0",
            "_model_name": "HTMLModel",
            "_view_count": null,
            "_view_module": "@jupyter-widgets/controls",
            "_view_module_version": "1.5.0",
            "_view_name": "HTMLView",
            "description": "",
            "description_tooltip": null,
            "layout": "IPY_MODEL_f65d02de73fe4f189195440d480d89f0",
            "placeholder": "​",
            "style": "IPY_MODEL_f4afeab5ace249c4a7ea265b65b48687",
            "value": "100%"
          }
        },
        "068451bbf3e44068936d6e27fef3c40d": {
          "model_module": "@jupyter-widgets/controls",
          "model_name": "FloatProgressModel",
          "model_module_version": "1.5.0",
          "state": {
            "_dom_classes": [],
            "_model_module": "@jupyter-widgets/controls",
            "_model_module_version": "1.5.0",
            "_model_name": "FloatProgressModel",
            "_view_count": null,
            "_view_module": "@jupyter-widgets/controls",
            "_view_module_version": "1.5.0",
            "_view_name": "ProgressView",
            "bar_style": "success",
            "description": "",
            "description_tooltip": null,
            "layout": "IPY_MODEL_a217bbe6fd1c4a479d42e9cbbb45a28f",
            "max": 4100,
            "min": 0,
            "orientation": "horizontal",
            "style": "IPY_MODEL_41f29aef597b4583aa369fb808220421",
            "value": 4100
          }
        },
        "61a00e0bd427432d8fdcdecef3510224": {
          "model_module": "@jupyter-widgets/controls",
          "model_name": "HTMLModel",
          "model_module_version": "1.5.0",
          "state": {
            "_dom_classes": [],
            "_model_module": "@jupyter-widgets/controls",
            "_model_module_version": "1.5.0",
            "_model_name": "HTMLModel",
            "_view_count": null,
            "_view_module": "@jupyter-widgets/controls",
            "_view_module_version": "1.5.0",
            "_view_name": "HTMLView",
            "description": "",
            "description_tooltip": null,
            "layout": "IPY_MODEL_a3ca6d5883da4f8388ea20a247ca91c6",
            "placeholder": "​",
            "style": "IPY_MODEL_0dfba1dc74fb49b6b1b7f195d693955a",
            "value": " 4100/4100 [01:29&lt;00:00, 45.28it/s]"
          }
        },
        "12a5494136a8419ab573048ca18b83cc": {
          "model_module": "@jupyter-widgets/base",
          "model_name": "LayoutModel",
          "model_module_version": "1.2.0",
          "state": {
            "_model_module": "@jupyter-widgets/base",
            "_model_module_version": "1.2.0",
            "_model_name": "LayoutModel",
            "_view_count": null,
            "_view_module": "@jupyter-widgets/base",
            "_view_module_version": "1.2.0",
            "_view_name": "LayoutView",
            "align_content": null,
            "align_items": null,
            "align_self": null,
            "border": null,
            "bottom": null,
            "display": null,
            "flex": null,
            "flex_flow": null,
            "grid_area": null,
            "grid_auto_columns": null,
            "grid_auto_flow": null,
            "grid_auto_rows": null,
            "grid_column": null,
            "grid_gap": null,
            "grid_row": null,
            "grid_template_areas": null,
            "grid_template_columns": null,
            "grid_template_rows": null,
            "height": null,
            "justify_content": null,
            "justify_items": null,
            "left": null,
            "margin": null,
            "max_height": null,
            "max_width": null,
            "min_height": null,
            "min_width": null,
            "object_fit": null,
            "object_position": null,
            "order": null,
            "overflow": null,
            "overflow_x": null,
            "overflow_y": null,
            "padding": null,
            "right": null,
            "top": null,
            "visibility": null,
            "width": null
          }
        },
        "f65d02de73fe4f189195440d480d89f0": {
          "model_module": "@jupyter-widgets/base",
          "model_name": "LayoutModel",
          "model_module_version": "1.2.0",
          "state": {
            "_model_module": "@jupyter-widgets/base",
            "_model_module_version": "1.2.0",
            "_model_name": "LayoutModel",
            "_view_count": null,
            "_view_module": "@jupyter-widgets/base",
            "_view_module_version": "1.2.0",
            "_view_name": "LayoutView",
            "align_content": null,
            "align_items": null,
            "align_self": null,
            "border": null,
            "bottom": null,
            "display": null,
            "flex": null,
            "flex_flow": null,
            "grid_area": null,
            "grid_auto_columns": null,
            "grid_auto_flow": null,
            "grid_auto_rows": null,
            "grid_column": null,
            "grid_gap": null,
            "grid_row": null,
            "grid_template_areas": null,
            "grid_template_columns": null,
            "grid_template_rows": null,
            "height": null,
            "justify_content": null,
            "justify_items": null,
            "left": null,
            "margin": null,
            "max_height": null,
            "max_width": null,
            "min_height": null,
            "min_width": null,
            "object_fit": null,
            "object_position": null,
            "order": null,
            "overflow": null,
            "overflow_x": null,
            "overflow_y": null,
            "padding": null,
            "right": null,
            "top": null,
            "visibility": null,
            "width": null
          }
        },
        "f4afeab5ace249c4a7ea265b65b48687": {
          "model_module": "@jupyter-widgets/controls",
          "model_name": "DescriptionStyleModel",
          "model_module_version": "1.5.0",
          "state": {
            "_model_module": "@jupyter-widgets/controls",
            "_model_module_version": "1.5.0",
            "_model_name": "DescriptionStyleModel",
            "_view_count": null,
            "_view_module": "@jupyter-widgets/base",
            "_view_module_version": "1.2.0",
            "_view_name": "StyleView",
            "description_width": ""
          }
        },
        "a217bbe6fd1c4a479d42e9cbbb45a28f": {
          "model_module": "@jupyter-widgets/base",
          "model_name": "LayoutModel",
          "model_module_version": "1.2.0",
          "state": {
            "_model_module": "@jupyter-widgets/base",
            "_model_module_version": "1.2.0",
            "_model_name": "LayoutModel",
            "_view_count": null,
            "_view_module": "@jupyter-widgets/base",
            "_view_module_version": "1.2.0",
            "_view_name": "LayoutView",
            "align_content": null,
            "align_items": null,
            "align_self": null,
            "border": null,
            "bottom": null,
            "display": null,
            "flex": null,
            "flex_flow": null,
            "grid_area": null,
            "grid_auto_columns": null,
            "grid_auto_flow": null,
            "grid_auto_rows": null,
            "grid_column": null,
            "grid_gap": null,
            "grid_row": null,
            "grid_template_areas": null,
            "grid_template_columns": null,
            "grid_template_rows": null,
            "height": null,
            "justify_content": null,
            "justify_items": null,
            "left": null,
            "margin": null,
            "max_height": null,
            "max_width": null,
            "min_height": null,
            "min_width": null,
            "object_fit": null,
            "object_position": null,
            "order": null,
            "overflow": null,
            "overflow_x": null,
            "overflow_y": null,
            "padding": null,
            "right": null,
            "top": null,
            "visibility": null,
            "width": null
          }
        },
        "41f29aef597b4583aa369fb808220421": {
          "model_module": "@jupyter-widgets/controls",
          "model_name": "ProgressStyleModel",
          "model_module_version": "1.5.0",
          "state": {
            "_model_module": "@jupyter-widgets/controls",
            "_model_module_version": "1.5.0",
            "_model_name": "ProgressStyleModel",
            "_view_count": null,
            "_view_module": "@jupyter-widgets/base",
            "_view_module_version": "1.2.0",
            "_view_name": "StyleView",
            "bar_color": null,
            "description_width": ""
          }
        },
        "a3ca6d5883da4f8388ea20a247ca91c6": {
          "model_module": "@jupyter-widgets/base",
          "model_name": "LayoutModel",
          "model_module_version": "1.2.0",
          "state": {
            "_model_module": "@jupyter-widgets/base",
            "_model_module_version": "1.2.0",
            "_model_name": "LayoutModel",
            "_view_count": null,
            "_view_module": "@jupyter-widgets/base",
            "_view_module_version": "1.2.0",
            "_view_name": "LayoutView",
            "align_content": null,
            "align_items": null,
            "align_self": null,
            "border": null,
            "bottom": null,
            "display": null,
            "flex": null,
            "flex_flow": null,
            "grid_area": null,
            "grid_auto_columns": null,
            "grid_auto_flow": null,
            "grid_auto_rows": null,
            "grid_column": null,
            "grid_gap": null,
            "grid_row": null,
            "grid_template_areas": null,
            "grid_template_columns": null,
            "grid_template_rows": null,
            "height": null,
            "justify_content": null,
            "justify_items": null,
            "left": null,
            "margin": null,
            "max_height": null,
            "max_width": null,
            "min_height": null,
            "min_width": null,
            "object_fit": null,
            "object_position": null,
            "order": null,
            "overflow": null,
            "overflow_x": null,
            "overflow_y": null,
            "padding": null,
            "right": null,
            "top": null,
            "visibility": null,
            "width": null
          }
        },
        "0dfba1dc74fb49b6b1b7f195d693955a": {
          "model_module": "@jupyter-widgets/controls",
          "model_name": "DescriptionStyleModel",
          "model_module_version": "1.5.0",
          "state": {
            "_model_module": "@jupyter-widgets/controls",
            "_model_module_version": "1.5.0",
            "_model_name": "DescriptionStyleModel",
            "_view_count": null,
            "_view_module": "@jupyter-widgets/base",
            "_view_module_version": "1.2.0",
            "_view_name": "StyleView",
            "description_width": ""
          }
        },
        "71930826f0d0405992a1c22677f8d8ff": {
          "model_module": "@jupyter-widgets/controls",
          "model_name": "HBoxModel",
          "model_module_version": "1.5.0",
          "state": {
            "_dom_classes": [],
            "_model_module": "@jupyter-widgets/controls",
            "_model_module_version": "1.5.0",
            "_model_name": "HBoxModel",
            "_view_count": null,
            "_view_module": "@jupyter-widgets/controls",
            "_view_module_version": "1.5.0",
            "_view_name": "HBoxView",
            "box_style": "",
            "children": [
              "IPY_MODEL_2773865cadcd44f49e4b15646cfcf34a",
              "IPY_MODEL_dd66fb2e22184df680067b022682f0d3",
              "IPY_MODEL_8e6632b3cef545819bda639486a1c919"
            ],
            "layout": "IPY_MODEL_edeaf4b216534ae3a0d562297db0b997"
          }
        },
        "2773865cadcd44f49e4b15646cfcf34a": {
          "model_module": "@jupyter-widgets/controls",
          "model_name": "HTMLModel",
          "model_module_version": "1.5.0",
          "state": {
            "_dom_classes": [],
            "_model_module": "@jupyter-widgets/controls",
            "_model_module_version": "1.5.0",
            "_model_name": "HTMLModel",
            "_view_count": null,
            "_view_module": "@jupyter-widgets/controls",
            "_view_module_version": "1.5.0",
            "_view_name": "HTMLView",
            "description": "",
            "description_tooltip": null,
            "layout": "IPY_MODEL_5676dd67310a4a6b8fb9a249af58770a",
            "placeholder": "​",
            "style": "IPY_MODEL_424bd214f7ec4d2897856a57002cd95e",
            "value": "100%"
          }
        },
        "dd66fb2e22184df680067b022682f0d3": {
          "model_module": "@jupyter-widgets/controls",
          "model_name": "FloatProgressModel",
          "model_module_version": "1.5.0",
          "state": {
            "_dom_classes": [],
            "_model_module": "@jupyter-widgets/controls",
            "_model_module_version": "1.5.0",
            "_model_name": "FloatProgressModel",
            "_view_count": null,
            "_view_module": "@jupyter-widgets/controls",
            "_view_module_version": "1.5.0",
            "_view_name": "ProgressView",
            "bar_style": "success",
            "description": "",
            "description_tooltip": null,
            "layout": "IPY_MODEL_52f9df3054ed471186516028de458d12",
            "max": 400,
            "min": 0,
            "orientation": "horizontal",
            "style": "IPY_MODEL_382b035dee714ef299923b26c778bf0a",
            "value": 400
          }
        },
        "8e6632b3cef545819bda639486a1c919": {
          "model_module": "@jupyter-widgets/controls",
          "model_name": "HTMLModel",
          "model_module_version": "1.5.0",
          "state": {
            "_dom_classes": [],
            "_model_module": "@jupyter-widgets/controls",
            "_model_module_version": "1.5.0",
            "_model_name": "HTMLModel",
            "_view_count": null,
            "_view_module": "@jupyter-widgets/controls",
            "_view_module_version": "1.5.0",
            "_view_name": "HTMLView",
            "description": "",
            "description_tooltip": null,
            "layout": "IPY_MODEL_14916d2c061b45be86e14d0f84064cfd",
            "placeholder": "​",
            "style": "IPY_MODEL_5d687037c6e24d74b49601cdb7732bd2",
            "value": " 400/400 [00:19&lt;00:00, 21.02it/s]"
          }
        },
        "edeaf4b216534ae3a0d562297db0b997": {
          "model_module": "@jupyter-widgets/base",
          "model_name": "LayoutModel",
          "model_module_version": "1.2.0",
          "state": {
            "_model_module": "@jupyter-widgets/base",
            "_model_module_version": "1.2.0",
            "_model_name": "LayoutModel",
            "_view_count": null,
            "_view_module": "@jupyter-widgets/base",
            "_view_module_version": "1.2.0",
            "_view_name": "LayoutView",
            "align_content": null,
            "align_items": null,
            "align_self": null,
            "border": null,
            "bottom": null,
            "display": null,
            "flex": null,
            "flex_flow": null,
            "grid_area": null,
            "grid_auto_columns": null,
            "grid_auto_flow": null,
            "grid_auto_rows": null,
            "grid_column": null,
            "grid_gap": null,
            "grid_row": null,
            "grid_template_areas": null,
            "grid_template_columns": null,
            "grid_template_rows": null,
            "height": null,
            "justify_content": null,
            "justify_items": null,
            "left": null,
            "margin": null,
            "max_height": null,
            "max_width": null,
            "min_height": null,
            "min_width": null,
            "object_fit": null,
            "object_position": null,
            "order": null,
            "overflow": null,
            "overflow_x": null,
            "overflow_y": null,
            "padding": null,
            "right": null,
            "top": null,
            "visibility": null,
            "width": null
          }
        },
        "5676dd67310a4a6b8fb9a249af58770a": {
          "model_module": "@jupyter-widgets/base",
          "model_name": "LayoutModel",
          "model_module_version": "1.2.0",
          "state": {
            "_model_module": "@jupyter-widgets/base",
            "_model_module_version": "1.2.0",
            "_model_name": "LayoutModel",
            "_view_count": null,
            "_view_module": "@jupyter-widgets/base",
            "_view_module_version": "1.2.0",
            "_view_name": "LayoutView",
            "align_content": null,
            "align_items": null,
            "align_self": null,
            "border": null,
            "bottom": null,
            "display": null,
            "flex": null,
            "flex_flow": null,
            "grid_area": null,
            "grid_auto_columns": null,
            "grid_auto_flow": null,
            "grid_auto_rows": null,
            "grid_column": null,
            "grid_gap": null,
            "grid_row": null,
            "grid_template_areas": null,
            "grid_template_columns": null,
            "grid_template_rows": null,
            "height": null,
            "justify_content": null,
            "justify_items": null,
            "left": null,
            "margin": null,
            "max_height": null,
            "max_width": null,
            "min_height": null,
            "min_width": null,
            "object_fit": null,
            "object_position": null,
            "order": null,
            "overflow": null,
            "overflow_x": null,
            "overflow_y": null,
            "padding": null,
            "right": null,
            "top": null,
            "visibility": null,
            "width": null
          }
        },
        "424bd214f7ec4d2897856a57002cd95e": {
          "model_module": "@jupyter-widgets/controls",
          "model_name": "DescriptionStyleModel",
          "model_module_version": "1.5.0",
          "state": {
            "_model_module": "@jupyter-widgets/controls",
            "_model_module_version": "1.5.0",
            "_model_name": "DescriptionStyleModel",
            "_view_count": null,
            "_view_module": "@jupyter-widgets/base",
            "_view_module_version": "1.2.0",
            "_view_name": "StyleView",
            "description_width": ""
          }
        },
        "52f9df3054ed471186516028de458d12": {
          "model_module": "@jupyter-widgets/base",
          "model_name": "LayoutModel",
          "model_module_version": "1.2.0",
          "state": {
            "_model_module": "@jupyter-widgets/base",
            "_model_module_version": "1.2.0",
            "_model_name": "LayoutModel",
            "_view_count": null,
            "_view_module": "@jupyter-widgets/base",
            "_view_module_version": "1.2.0",
            "_view_name": "LayoutView",
            "align_content": null,
            "align_items": null,
            "align_self": null,
            "border": null,
            "bottom": null,
            "display": null,
            "flex": null,
            "flex_flow": null,
            "grid_area": null,
            "grid_auto_columns": null,
            "grid_auto_flow": null,
            "grid_auto_rows": null,
            "grid_column": null,
            "grid_gap": null,
            "grid_row": null,
            "grid_template_areas": null,
            "grid_template_columns": null,
            "grid_template_rows": null,
            "height": null,
            "justify_content": null,
            "justify_items": null,
            "left": null,
            "margin": null,
            "max_height": null,
            "max_width": null,
            "min_height": null,
            "min_width": null,
            "object_fit": null,
            "object_position": null,
            "order": null,
            "overflow": null,
            "overflow_x": null,
            "overflow_y": null,
            "padding": null,
            "right": null,
            "top": null,
            "visibility": null,
            "width": null
          }
        },
        "382b035dee714ef299923b26c778bf0a": {
          "model_module": "@jupyter-widgets/controls",
          "model_name": "ProgressStyleModel",
          "model_module_version": "1.5.0",
          "state": {
            "_model_module": "@jupyter-widgets/controls",
            "_model_module_version": "1.5.0",
            "_model_name": "ProgressStyleModel",
            "_view_count": null,
            "_view_module": "@jupyter-widgets/base",
            "_view_module_version": "1.2.0",
            "_view_name": "StyleView",
            "bar_color": null,
            "description_width": ""
          }
        },
        "14916d2c061b45be86e14d0f84064cfd": {
          "model_module": "@jupyter-widgets/base",
          "model_name": "LayoutModel",
          "model_module_version": "1.2.0",
          "state": {
            "_model_module": "@jupyter-widgets/base",
            "_model_module_version": "1.2.0",
            "_model_name": "LayoutModel",
            "_view_count": null,
            "_view_module": "@jupyter-widgets/base",
            "_view_module_version": "1.2.0",
            "_view_name": "LayoutView",
            "align_content": null,
            "align_items": null,
            "align_self": null,
            "border": null,
            "bottom": null,
            "display": null,
            "flex": null,
            "flex_flow": null,
            "grid_area": null,
            "grid_auto_columns": null,
            "grid_auto_flow": null,
            "grid_auto_rows": null,
            "grid_column": null,
            "grid_gap": null,
            "grid_row": null,
            "grid_template_areas": null,
            "grid_template_columns": null,
            "grid_template_rows": null,
            "height": null,
            "justify_content": null,
            "justify_items": null,
            "left": null,
            "margin": null,
            "max_height": null,
            "max_width": null,
            "min_height": null,
            "min_width": null,
            "object_fit": null,
            "object_position": null,
            "order": null,
            "overflow": null,
            "overflow_x": null,
            "overflow_y": null,
            "padding": null,
            "right": null,
            "top": null,
            "visibility": null,
            "width": null
          }
        },
        "5d687037c6e24d74b49601cdb7732bd2": {
          "model_module": "@jupyter-widgets/controls",
          "model_name": "DescriptionStyleModel",
          "model_module_version": "1.5.0",
          "state": {
            "_model_module": "@jupyter-widgets/controls",
            "_model_module_version": "1.5.0",
            "_model_name": "DescriptionStyleModel",
            "_view_count": null,
            "_view_module": "@jupyter-widgets/base",
            "_view_module_version": "1.2.0",
            "_view_name": "StyleView",
            "description_width": ""
          }
        },
        "13ef981febfa450892da31506628547d": {
          "model_module": "@jupyter-widgets/controls",
          "model_name": "HBoxModel",
          "model_module_version": "1.5.0",
          "state": {
            "_dom_classes": [],
            "_model_module": "@jupyter-widgets/controls",
            "_model_module_version": "1.5.0",
            "_model_name": "HBoxModel",
            "_view_count": null,
            "_view_module": "@jupyter-widgets/controls",
            "_view_module_version": "1.5.0",
            "_view_name": "HBoxView",
            "box_style": "",
            "children": [
              "IPY_MODEL_9b8fd4bb88ab440691548b3ac0021b29",
              "IPY_MODEL_5d665635717f4166a05857caba089845",
              "IPY_MODEL_9c8634a97fe542be808ef621248b578b"
            ],
            "layout": "IPY_MODEL_6509f73a9892413dba3c4b4315e65f55"
          }
        },
        "9b8fd4bb88ab440691548b3ac0021b29": {
          "model_module": "@jupyter-widgets/controls",
          "model_name": "HTMLModel",
          "model_module_version": "1.5.0",
          "state": {
            "_dom_classes": [],
            "_model_module": "@jupyter-widgets/controls",
            "_model_module_version": "1.5.0",
            "_model_name": "HTMLModel",
            "_view_count": null,
            "_view_module": "@jupyter-widgets/controls",
            "_view_module_version": "1.5.0",
            "_view_name": "HTMLView",
            "description": "",
            "description_tooltip": null,
            "layout": "IPY_MODEL_e23b6410e673412da60e267c98f31aa3",
            "placeholder": "​",
            "style": "IPY_MODEL_5cff82b1c77b451483c50181b33f5d04",
            "value": "100%"
          }
        },
        "5d665635717f4166a05857caba089845": {
          "model_module": "@jupyter-widgets/controls",
          "model_name": "FloatProgressModel",
          "model_module_version": "1.5.0",
          "state": {
            "_dom_classes": [],
            "_model_module": "@jupyter-widgets/controls",
            "_model_module_version": "1.5.0",
            "_model_name": "FloatProgressModel",
            "_view_count": null,
            "_view_module": "@jupyter-widgets/controls",
            "_view_module_version": "1.5.0",
            "_view_name": "ProgressView",
            "bar_style": "success",
            "description": "",
            "description_tooltip": null,
            "layout": "IPY_MODEL_20dac9840b5c41de880a1f9eafc6ef6c",
            "max": 400,
            "min": 0,
            "orientation": "horizontal",
            "style": "IPY_MODEL_b77ef9763c7449009d67417bdbd1928e",
            "value": 400
          }
        },
        "9c8634a97fe542be808ef621248b578b": {
          "model_module": "@jupyter-widgets/controls",
          "model_name": "HTMLModel",
          "model_module_version": "1.5.0",
          "state": {
            "_dom_classes": [],
            "_model_module": "@jupyter-widgets/controls",
            "_model_module_version": "1.5.0",
            "_model_name": "HTMLModel",
            "_view_count": null,
            "_view_module": "@jupyter-widgets/controls",
            "_view_module_version": "1.5.0",
            "_view_name": "HTMLView",
            "description": "",
            "description_tooltip": null,
            "layout": "IPY_MODEL_00082b8db90b43e5ba5c907b04fd193e",
            "placeholder": "​",
            "style": "IPY_MODEL_823995a2be564dc1a0c3a5d78ecf7da4",
            "value": " 400/400 [00:08&lt;00:00, 49.16it/s]"
          }
        },
        "6509f73a9892413dba3c4b4315e65f55": {
          "model_module": "@jupyter-widgets/base",
          "model_name": "LayoutModel",
          "model_module_version": "1.2.0",
          "state": {
            "_model_module": "@jupyter-widgets/base",
            "_model_module_version": "1.2.0",
            "_model_name": "LayoutModel",
            "_view_count": null,
            "_view_module": "@jupyter-widgets/base",
            "_view_module_version": "1.2.0",
            "_view_name": "LayoutView",
            "align_content": null,
            "align_items": null,
            "align_self": null,
            "border": null,
            "bottom": null,
            "display": null,
            "flex": null,
            "flex_flow": null,
            "grid_area": null,
            "grid_auto_columns": null,
            "grid_auto_flow": null,
            "grid_auto_rows": null,
            "grid_column": null,
            "grid_gap": null,
            "grid_row": null,
            "grid_template_areas": null,
            "grid_template_columns": null,
            "grid_template_rows": null,
            "height": null,
            "justify_content": null,
            "justify_items": null,
            "left": null,
            "margin": null,
            "max_height": null,
            "max_width": null,
            "min_height": null,
            "min_width": null,
            "object_fit": null,
            "object_position": null,
            "order": null,
            "overflow": null,
            "overflow_x": null,
            "overflow_y": null,
            "padding": null,
            "right": null,
            "top": null,
            "visibility": null,
            "width": null
          }
        },
        "e23b6410e673412da60e267c98f31aa3": {
          "model_module": "@jupyter-widgets/base",
          "model_name": "LayoutModel",
          "model_module_version": "1.2.0",
          "state": {
            "_model_module": "@jupyter-widgets/base",
            "_model_module_version": "1.2.0",
            "_model_name": "LayoutModel",
            "_view_count": null,
            "_view_module": "@jupyter-widgets/base",
            "_view_module_version": "1.2.0",
            "_view_name": "LayoutView",
            "align_content": null,
            "align_items": null,
            "align_self": null,
            "border": null,
            "bottom": null,
            "display": null,
            "flex": null,
            "flex_flow": null,
            "grid_area": null,
            "grid_auto_columns": null,
            "grid_auto_flow": null,
            "grid_auto_rows": null,
            "grid_column": null,
            "grid_gap": null,
            "grid_row": null,
            "grid_template_areas": null,
            "grid_template_columns": null,
            "grid_template_rows": null,
            "height": null,
            "justify_content": null,
            "justify_items": null,
            "left": null,
            "margin": null,
            "max_height": null,
            "max_width": null,
            "min_height": null,
            "min_width": null,
            "object_fit": null,
            "object_position": null,
            "order": null,
            "overflow": null,
            "overflow_x": null,
            "overflow_y": null,
            "padding": null,
            "right": null,
            "top": null,
            "visibility": null,
            "width": null
          }
        },
        "5cff82b1c77b451483c50181b33f5d04": {
          "model_module": "@jupyter-widgets/controls",
          "model_name": "DescriptionStyleModel",
          "model_module_version": "1.5.0",
          "state": {
            "_model_module": "@jupyter-widgets/controls",
            "_model_module_version": "1.5.0",
            "_model_name": "DescriptionStyleModel",
            "_view_count": null,
            "_view_module": "@jupyter-widgets/base",
            "_view_module_version": "1.2.0",
            "_view_name": "StyleView",
            "description_width": ""
          }
        },
        "20dac9840b5c41de880a1f9eafc6ef6c": {
          "model_module": "@jupyter-widgets/base",
          "model_name": "LayoutModel",
          "model_module_version": "1.2.0",
          "state": {
            "_model_module": "@jupyter-widgets/base",
            "_model_module_version": "1.2.0",
            "_model_name": "LayoutModel",
            "_view_count": null,
            "_view_module": "@jupyter-widgets/base",
            "_view_module_version": "1.2.0",
            "_view_name": "LayoutView",
            "align_content": null,
            "align_items": null,
            "align_self": null,
            "border": null,
            "bottom": null,
            "display": null,
            "flex": null,
            "flex_flow": null,
            "grid_area": null,
            "grid_auto_columns": null,
            "grid_auto_flow": null,
            "grid_auto_rows": null,
            "grid_column": null,
            "grid_gap": null,
            "grid_row": null,
            "grid_template_areas": null,
            "grid_template_columns": null,
            "grid_template_rows": null,
            "height": null,
            "justify_content": null,
            "justify_items": null,
            "left": null,
            "margin": null,
            "max_height": null,
            "max_width": null,
            "min_height": null,
            "min_width": null,
            "object_fit": null,
            "object_position": null,
            "order": null,
            "overflow": null,
            "overflow_x": null,
            "overflow_y": null,
            "padding": null,
            "right": null,
            "top": null,
            "visibility": null,
            "width": null
          }
        },
        "b77ef9763c7449009d67417bdbd1928e": {
          "model_module": "@jupyter-widgets/controls",
          "model_name": "ProgressStyleModel",
          "model_module_version": "1.5.0",
          "state": {
            "_model_module": "@jupyter-widgets/controls",
            "_model_module_version": "1.5.0",
            "_model_name": "ProgressStyleModel",
            "_view_count": null,
            "_view_module": "@jupyter-widgets/base",
            "_view_module_version": "1.2.0",
            "_view_name": "StyleView",
            "bar_color": null,
            "description_width": ""
          }
        },
        "00082b8db90b43e5ba5c907b04fd193e": {
          "model_module": "@jupyter-widgets/base",
          "model_name": "LayoutModel",
          "model_module_version": "1.2.0",
          "state": {
            "_model_module": "@jupyter-widgets/base",
            "_model_module_version": "1.2.0",
            "_model_name": "LayoutModel",
            "_view_count": null,
            "_view_module": "@jupyter-widgets/base",
            "_view_module_version": "1.2.0",
            "_view_name": "LayoutView",
            "align_content": null,
            "align_items": null,
            "align_self": null,
            "border": null,
            "bottom": null,
            "display": null,
            "flex": null,
            "flex_flow": null,
            "grid_area": null,
            "grid_auto_columns": null,
            "grid_auto_flow": null,
            "grid_auto_rows": null,
            "grid_column": null,
            "grid_gap": null,
            "grid_row": null,
            "grid_template_areas": null,
            "grid_template_columns": null,
            "grid_template_rows": null,
            "height": null,
            "justify_content": null,
            "justify_items": null,
            "left": null,
            "margin": null,
            "max_height": null,
            "max_width": null,
            "min_height": null,
            "min_width": null,
            "object_fit": null,
            "object_position": null,
            "order": null,
            "overflow": null,
            "overflow_x": null,
            "overflow_y": null,
            "padding": null,
            "right": null,
            "top": null,
            "visibility": null,
            "width": null
          }
        },
        "823995a2be564dc1a0c3a5d78ecf7da4": {
          "model_module": "@jupyter-widgets/controls",
          "model_name": "DescriptionStyleModel",
          "model_module_version": "1.5.0",
          "state": {
            "_model_module": "@jupyter-widgets/controls",
            "_model_module_version": "1.5.0",
            "_model_name": "DescriptionStyleModel",
            "_view_count": null,
            "_view_module": "@jupyter-widgets/base",
            "_view_module_version": "1.2.0",
            "_view_name": "StyleView",
            "description_width": ""
          }
        }
      }
    }
  },
  "cells": [
    {
      "cell_type": "code",
      "execution_count": null,
      "metadata": {
        "id": "gXC2vGIDOOrw"
      },
      "outputs": [],
      "source": [
        "import numpy as np\n",
        "import matplotlib.pyplot as plt\n",
        "from matplotlib.image import imread\n",
        "import os\n",
        "import random\n",
        "from tqdm.notebook import tqdm\n",
        "from PIL import Image\n",
        "from skimage.transform import resize\n",
        "import tensorflow as tf\n",
        "from tensorflow import keras\n",
        "from keras.models import Sequential, load_model\n",
        "from keras.callbacks import EarlyStopping, ModelCheckpoint\n",
        "from keras import layers, Model\n",
        "from keras.layers import Dense, Conv2D, MaxPool2D, Dropout, BatchNormalization \n",
        "from keras.layers import Activation, Conv2DTranspose, concatenate, Input, MaxPooling2D\n",
        "from tensorflow.keras.preprocessing.image import ImageDataGenerator, load_img, img_to_array, array_to_img\n",
        "from keras import backend as K"
      ]
    },
    {
      "cell_type": "code",
      "source": [
        "from google.colab import drive\n",
        "drive.mount('/content/drive')"
      ],
      "metadata": {
        "colab": {
          "base_uri": "https://localhost:8080/"
        },
        "id": "q_FML4bY7fQA",
        "outputId": "6014f489-c75c-4681-e22e-2ab1c05ac2ce"
      },
      "execution_count": null,
      "outputs": [
        {
          "output_type": "stream",
          "name": "stdout",
          "text": [
            "Mounted at /content/drive\n"
          ]
        }
      ]
    },
    {
      "cell_type": "code",
      "source": [
        "!tar -xzvf \"/content/drive/MyDrive/Diss_Dataset.tar.gz\" "
      ],
      "metadata": {
        "id": "tEF0T1KR7hO2"
      },
      "execution_count": null,
      "outputs": []
    },
    {
      "cell_type": "code",
      "source": [
        "#Confirm the size of each split\n",
        "\n",
        "dirr = \"/content/Diss_Dataset/\"\n",
        "\n",
        "print('Total input train images: ', len(os.listdir(dirr+\"input/train\")))\n",
        "print('Total input validation images: ', len(os.listdir(dirr+\"input/validation\")))\n",
        "print('Total input test images: ', len(os.listdir(dirr+\"input/test\")))\n",
        "print('Total target train images: ', len(os.listdir(dirr+\"target/train\")))\n",
        "print('Total target validation images: ', len(os.listdir(dirr+\"target/validation\")))\n",
        "print('Total target test images: ', len(os.listdir(dirr+\"target/test\")))"
      ],
      "metadata": {
        "colab": {
          "base_uri": "https://localhost:8080/"
        },
        "id": "WSDARIaM7qjI",
        "outputId": "166bca2f-2666-47f3-fe15-f9396e8117b2"
      },
      "execution_count": null,
      "outputs": [
        {
          "output_type": "stream",
          "name": "stdout",
          "text": [
            "Total input train images:  4100\n",
            "Total input validation images:  400\n",
            "Total input test images:  400\n",
            "Total target train images:  4100\n",
            "Total target validation images:  400\n",
            "Total target test images:  400\n"
          ]
        }
      ]
    },
    {
      "cell_type": "code",
      "source": [
        "#Load the inputs and targets into arrays\n",
        "\n",
        "im_width = 256\n",
        "im_height = 256\n",
        "\n",
        "train_ids = next(os.walk(dirr+\"input/train\"))[2]\n",
        "tar_ids = next(os.walk(dirr+\"target/train\"))[2]\n",
        "\n",
        "train_ids = sorted(train_ids)\n",
        "tar_ids = sorted(tar_ids)"
      ],
      "metadata": {
        "id": "WCcSMWRn8XyT"
      },
      "execution_count": null,
      "outputs": []
    },
    {
      "cell_type": "code",
      "source": [
        "for i in range(0,10):\n",
        "  print(train_ids[i])\n",
        "  print(tar_ids[i])"
      ],
      "metadata": {
        "colab": {
          "base_uri": "https://localhost:8080/"
        },
        "id": "opggirb78ZKI",
        "outputId": "0adf2b44-b60d-4765-c6c7-fb84e03ffe3b"
      },
      "execution_count": null,
      "outputs": [
        {
          "output_type": "stream",
          "name": "stdout",
          "text": [
            "0one_ell_app_res.tiff\n",
            "0one_ell_true.tiff\n",
            "0one_rec_app_res.tiff\n",
            "0one_rec_true.tiff\n",
            "0three_ell_app_res.tiff\n",
            "0three_ell_true.tiff\n",
            "0three_rec_app_res.tiff\n",
            "0three_rec_true.tiff\n",
            "0two_ell_app_res.tiff\n",
            "0two_ell_true.tiff\n",
            "0two_obj_app_res.tiff\n",
            "0two_obj_true.tiff\n",
            "0two_rec_app_res.tiff\n",
            "0two_rec_true.tiff\n",
            "1000one_ell_app_res.tiff\n",
            "1000one_ell_true.tiff\n",
            "1001one_ell_app_res.tiff\n",
            "1001one_ell_true.tiff\n",
            "1002one_ell_app_res.tiff\n",
            "1002one_ell_true.tiff\n"
          ]
        }
      ]
    },
    {
      "cell_type": "code",
      "source": [
        "X = np.zeros((len(train_ids), im_height, im_width, 1), dtype=np.float32)\n",
        "y = np.zeros((len(tar_ids), im_height, im_width, 1), dtype=np.float32)\n",
        "\n",
        "print(X.shape)\n",
        "print(y.shape)"
      ],
      "metadata": {
        "colab": {
          "base_uri": "https://localhost:8080/"
        },
        "id": "O4w1JZjR8fdw",
        "outputId": "178c1486-b059-45c3-88bb-539f34fe7af2"
      },
      "execution_count": null,
      "outputs": [
        {
          "output_type": "stream",
          "name": "stdout",
          "text": [
            "(4100, 256, 256, 1)\n",
            "(4100, 256, 256, 1)\n"
          ]
        }
      ]
    },
    {
      "cell_type": "code",
      "source": [
        "for n, id_ in tqdm(enumerate(train_ids), total=len(train_ids)):\n",
        "    #Load images\n",
        "    img = load_img(dirr + \"input/train/\" + id_)\n",
        "    x_img = img_to_array(img)[:,:,1]\n",
        "    x_img = resize(x_img, (256, 256, 1), mode='constant', preserve_range=True)\n",
        "    \n",
        "    #Normalise images\n",
        "    X[n] = x_img/255.0\n",
        "    \n",
        "for n, id_ in tqdm(enumerate(tar_ids), total=len(tar_ids)):\n",
        "    #Load targets\n",
        "    mask = load_img(dirr + \"target/train/\" + id_)\n",
        "    mask = img_to_array(mask)[:,:,1]\n",
        "    mask = resize(mask, (256, 256, 1), mode='constant', preserve_range=True)\n",
        "    \n",
        "    #Normalise images\n",
        "    y[n] = mask/255.0"
      ],
      "metadata": {
        "colab": {
          "base_uri": "https://localhost:8080/",
          "height": 81,
          "referenced_widgets": [
            "f4db063ccc47443095d153da7b534357",
            "1a387f19294e40de9ffc64c6ab751633",
            "ffd59e22323d42d99f18431344b00e22",
            "68c063d3da3d49539b6faa27dd6f69d4",
            "588a3d9cb5264ee692ede808467317a9",
            "68f23e25c29b47808f736c3d2028f4e8",
            "da02dfd288c74a099f588c6481cbe420",
            "a3aea1547b4d49e2b6deb19fa361efc5",
            "7d6100264e5a4e20a0797fde7cb36e10",
            "49d15b63b6774937b5fee6a169c6a414",
            "3572de8e822941eb859e7be2c3faf56a",
            "5451e3cd595b41428159e2d65b58be74",
            "74f60c6dd55342d6a95360b83417807b",
            "068451bbf3e44068936d6e27fef3c40d",
            "61a00e0bd427432d8fdcdecef3510224",
            "12a5494136a8419ab573048ca18b83cc",
            "f65d02de73fe4f189195440d480d89f0",
            "f4afeab5ace249c4a7ea265b65b48687",
            "a217bbe6fd1c4a479d42e9cbbb45a28f",
            "41f29aef597b4583aa369fb808220421",
            "a3ca6d5883da4f8388ea20a247ca91c6",
            "0dfba1dc74fb49b6b1b7f195d693955a"
          ]
        },
        "id": "8-wJHZYw_KC3",
        "outputId": "58a3820b-197e-4eab-f956-71c44cf68e72"
      },
      "execution_count": null,
      "outputs": [
        {
          "output_type": "display_data",
          "data": {
            "text/plain": [
              "  0%|          | 0/4100 [00:00<?, ?it/s]"
            ],
            "application/vnd.jupyter.widget-view+json": {
              "version_major": 2,
              "version_minor": 0,
              "model_id": "f4db063ccc47443095d153da7b534357"
            }
          },
          "metadata": {}
        },
        {
          "output_type": "display_data",
          "data": {
            "text/plain": [
              "  0%|          | 0/4100 [00:00<?, ?it/s]"
            ],
            "application/vnd.jupyter.widget-view+json": {
              "version_major": 2,
              "version_minor": 0,
              "model_id": "5451e3cd595b41428159e2d65b58be74"
            }
          },
          "metadata": {}
        }
      ]
    },
    {
      "cell_type": "code",
      "source": [
        "#Check if training data looks okay\n",
        "\n",
        "ix = 1000\n",
        "plt.imshow(np.dstack((X[ix], X[ix], X[ix])))\n",
        "plt.axis('off')\n",
        "plt.show()\n",
        "\n",
        "tmp = np.squeeze(y[ix]).astype(np.float32)\n",
        "plt.imshow(np.dstack((tmp, tmp, tmp)))\n",
        "plt.axis('off')\n",
        "plt.show()"
      ],
      "metadata": {
        "colab": {
          "base_uri": "https://localhost:8080/",
          "height": 479
        },
        "id": "Vjv07g_e_OlR",
        "outputId": "4c55405a-fa02-4461-dab7-a5cf982550eb"
      },
      "execution_count": null,
      "outputs": [
        {
          "output_type": "display_data",
          "data": {
            "text/plain": [
              "<Figure size 432x288 with 1 Axes>"
            ],
            "image/png": "[encoded data removed]"
          },
          "metadata": {
            "needs_background": "light"
          }
        },
        {
          "output_type": "display_data",
          "data": {
            "text/plain": [
              "<Figure size 432x288 with 1 Axes>"
            ],
            "image/png": "[encoded data removed]"
          },
          "metadata": {
            "needs_background": "light"
          }
        }
      ]
    },
    {
      "cell_type": "code",
      "source": [
        "print(train_ids[0])\n",
        "print(train_ids[10])\n",
        "print(train_ids[100])\n",
        "print(train_ids[1000])\n",
        "print(train_ids[3000])"
      ],
      "metadata": {
        "colab": {
          "base_uri": "https://localhost:8080/"
        },
        "id": "_yUFpF9GGF0O",
        "outputId": "b3d1c354-dd6e-40ea-89f7-b32713029a16"
      },
      "execution_count": null,
      "outputs": [
        {
          "output_type": "stream",
          "name": "stdout",
          "text": [
            "0one_ell_app_res.tiff\n",
            "1003one_ell_app_res.tiff\n",
            "1058one_ell_app_res.tiff\n",
            "177two_obj_app_res.tiff\n",
            "456two_obj_app_res.tiff\n"
          ]
        }
      ]
    },
    {
      "cell_type": "code",
      "source": [
        "print(tar_ids[0])\n",
        "print(tar_ids[10])\n",
        "print(tar_ids[100])\n",
        "print(tar_ids[1000])\n",
        "print(tar_ids[3000])"
      ],
      "metadata": {
        "colab": {
          "base_uri": "https://localhost:8080/"
        },
        "id": "JSN6S9sCGVt2",
        "outputId": "5b506a19-87b2-4455-f6d6-4f2cce5a719e"
      },
      "execution_count": null,
      "outputs": [
        {
          "output_type": "stream",
          "name": "stdout",
          "text": [
            "0one_ell_true.tiff\n",
            "1003one_ell_true.tiff\n",
            "1058one_ell_true.tiff\n",
            "177two_obj_true.tiff\n",
            "456two_obj_true.tiff\n"
          ]
        }
      ]
    },
    {
      "cell_type": "code",
      "source": [
        "print(X[1000].shape)\n",
        "print(y[1000].shape)"
      ],
      "metadata": {
        "colab": {
          "base_uri": "https://localhost:8080/"
        },
        "id": "BXynDIIR_QXb",
        "outputId": "2800c92e-9305-400b-fb18-abc4d2f00677"
      },
      "execution_count": null,
      "outputs": [
        {
          "output_type": "stream",
          "name": "stdout",
          "text": [
            "(256, 256, 1)\n",
            "(256, 256, 1)\n"
          ]
        }
      ]
    },
    {
      "cell_type": "code",
      "source": [
        "X[1000]"
      ],
      "metadata": {
        "colab": {
          "base_uri": "https://localhost:8080/"
        },
        "id": "jEjLv49I_mx3",
        "outputId": "2941af85-6193-4ca0-b143-9a1d64834399"
      },
      "execution_count": null,
      "outputs": [
        {
          "output_type": "execute_result",
          "data": {
            "text/plain": [
              "array([[[0.3688631 ],\n",
              "        [0.41143283],\n",
              "        [0.41147524],\n",
              "        ...,\n",
              "        [0.4078341 ],\n",
              "        [0.40779185],\n",
              "        [0.36559883]],\n",
              "\n",
              "       [[0.39724743],\n",
              "        [0.44309297],\n",
              "        [0.44313863],\n",
              "        ...,\n",
              "        [0.4392173 ],\n",
              "        [0.43917182],\n",
              "        [0.39373195]],\n",
              "\n",
              "       [[0.39724743],\n",
              "        [0.44309297],\n",
              "        [0.44313863],\n",
              "        ...,\n",
              "        [0.4392173 ],\n",
              "        [0.43917182],\n",
              "        [0.39373195]],\n",
              "\n",
              "       ...,\n",
              "\n",
              "       [[0.89644337],\n",
              "        [0.99990004],\n",
              "        [1.        ],\n",
              "        ...,\n",
              "        [1.        ],\n",
              "        [0.9999001 ],\n",
              "        [0.89644337]],\n",
              "\n",
              "       [[0.89644337],\n",
              "        [0.99990004],\n",
              "        [1.        ],\n",
              "        ...,\n",
              "        [1.        ],\n",
              "        [0.9999001 ],\n",
              "        [0.89644337]],\n",
              "\n",
              "       [[0.8323902 ],\n",
              "        [0.92845464],\n",
              "        [0.9285474 ],\n",
              "        ...,\n",
              "        [0.9285474 ],\n",
              "        [0.92845464],\n",
              "        [0.8323902 ]]], dtype=float32)"
            ]
          },
          "metadata": {},
          "execution_count": 12
        }
      ]
    },
    {
      "cell_type": "code",
      "source": [
        "y[1000]"
      ],
      "metadata": {
        "colab": {
          "base_uri": "https://localhost:8080/"
        },
        "id": "IgviRwjt_oA9",
        "outputId": "0e2bd50f-64cd-4d10-d978-21bc47305baf"
      },
      "execution_count": null,
      "outputs": [
        {
          "output_type": "execute_result",
          "data": {
            "text/plain": [
              "array([[[0.04921649],\n",
              "        [0.05489648],\n",
              "        [0.05490196],\n",
              "        ...,\n",
              "        [0.05490196],\n",
              "        [0.05489648],\n",
              "        [0.04921649]],\n",
              "\n",
              "       [[0.04921649],\n",
              "        [0.05489648],\n",
              "        [0.05490196],\n",
              "        ...,\n",
              "        [0.05490196],\n",
              "        [0.05489648],\n",
              "        [0.04921649]],\n",
              "\n",
              "       [[0.04921649],\n",
              "        [0.05489648],\n",
              "        [0.05490196],\n",
              "        ...,\n",
              "        [0.05490196],\n",
              "        [0.05489648],\n",
              "        [0.04921649]],\n",
              "\n",
              "       ...,\n",
              "\n",
              "       [[0.84722686],\n",
              "        [0.9450037 ],\n",
              "        [0.94509804],\n",
              "        ...,\n",
              "        [0.94509804],\n",
              "        [0.9450037 ],\n",
              "        [0.84722686]],\n",
              "\n",
              "       [[0.84722686],\n",
              "        [0.9450037 ],\n",
              "        [0.94509804],\n",
              "        ...,\n",
              "        [0.94509804],\n",
              "        [0.9450037 ],\n",
              "        [0.84722686]],\n",
              "\n",
              "       [[0.84722686],\n",
              "        [0.9450037 ],\n",
              "        [0.94509804],\n",
              "        ...,\n",
              "        [0.94509804],\n",
              "        [0.9450037 ],\n",
              "        [0.84722686]]], dtype=float32)"
            ]
          },
          "metadata": {},
          "execution_count": 13
        }
      ]
    },
    {
      "cell_type": "code",
      "source": [
        "#Find number of channels\n",
        "if X[0].ndim == 2:\n",
        "    channels = 1\n",
        "    print(\"Image has 1 channel\")\n",
        "else:\n",
        "    channels = X[0].shape[-1]\n",
        "    print(\"Image has \", channels, \"channels\")"
      ],
      "metadata": {
        "colab": {
          "base_uri": "https://localhost:8080/"
        },
        "id": "Eq3JbeevzdNy",
        "outputId": "982db27c-9bcc-4d35-9a44-4fdd690b3541"
      },
      "execution_count": null,
      "outputs": [
        {
          "output_type": "stream",
          "name": "stdout",
          "text": [
            "Image has  1 channels\n"
          ]
        }
      ]
    },
    {
      "cell_type": "code",
      "source": [
        "(X[3000]==1).sum()"
      ],
      "metadata": {
        "colab": {
          "base_uri": "https://localhost:8080/"
        },
        "id": "p65HYKXz0hnN",
        "outputId": "c3e954ba-3d3b-42ca-9501-b07ecaec6d58"
      },
      "execution_count": null,
      "outputs": [
        {
          "output_type": "execute_result",
          "data": {
            "text/plain": [
              "29786"
            ]
          },
          "metadata": {},
          "execution_count": 12
        }
      ]
    },
    {
      "cell_type": "code",
      "source": [
        "#Get validation data\n",
        "\n",
        "val_train_ids = next(os.walk(dirr+\"input/validation/\"))[2]\n",
        "val_tar_ids = next(os.walk(dirr+\"target/validation/\"))[2]\n",
        "\n",
        "val_train_ids = sorted(val_train_ids)\n",
        "val_tar_ids = sorted(val_tar_ids)"
      ],
      "metadata": {
        "id": "wa48arRn_Tqm"
      },
      "execution_count": null,
      "outputs": []
    },
    {
      "cell_type": "code",
      "source": [
        "for i in range(0,10):\n",
        "  print(val_train_ids[i])\n",
        "  print(val_tar_ids[i])"
      ],
      "metadata": {
        "colab": {
          "base_uri": "https://localhost:8080/"
        },
        "id": "NDd7OptD_V6n",
        "outputId": "84813b19-5b3e-4f57-9681-286a22d6df67"
      },
      "execution_count": null,
      "outputs": [
        {
          "output_type": "stream",
          "name": "stdout",
          "text": [
            "1400one_ell_app_res.tiff\n",
            "1400one_ell_true.tiff\n",
            "1401one_ell_app_res.tiff\n",
            "1401one_ell_true.tiff\n",
            "1402one_ell_app_res.tiff\n",
            "1402one_ell_true.tiff\n",
            "1403one_ell_app_res.tiff\n",
            "1403one_ell_true.tiff\n",
            "1404one_ell_app_res.tiff\n",
            "1404one_ell_true.tiff\n",
            "1405one_ell_app_res.tiff\n",
            "1405one_ell_true.tiff\n",
            "1406one_ell_app_res.tiff\n",
            "1406one_ell_true.tiff\n",
            "1407one_ell_app_res.tiff\n",
            "1407one_ell_true.tiff\n",
            "1408one_ell_app_res.tiff\n",
            "1408one_ell_true.tiff\n",
            "1409one_ell_app_res.tiff\n",
            "1409one_ell_true.tiff\n"
          ]
        }
      ]
    },
    {
      "cell_type": "code",
      "source": [
        "X_val = np.zeros((len(val_train_ids), im_height, im_width, 1), dtype=np.float32)\n",
        "y_val = np.zeros((len(val_tar_ids), im_height, im_width, 1), dtype=np.float32)"
      ],
      "metadata": {
        "id": "NGLAWZO1_Xwq"
      },
      "execution_count": null,
      "outputs": []
    },
    {
      "cell_type": "code",
      "source": [
        "for n, id_ in tqdm(enumerate(val_train_ids), total=len(val_train_ids)):\n",
        "    #Load images\n",
        "    img = load_img(dirr + \"input/validation/\" + id_)\n",
        "    x_img = img_to_array(img)[:,:,1]\n",
        "    x_img = resize(x_img, (256, 256, 1), mode='constant', preserve_range=True)\n",
        "    \n",
        "    #Normalise images\n",
        "    X_val[n] = x_img/255.0\n",
        "    \n",
        "for n, id_ in tqdm(enumerate(val_tar_ids), total=len(val_tar_ids)):\n",
        "    #Load targets\n",
        "    mask = load_img(dirr + \"target/validation/\" + id_)\n",
        "    mask = img_to_array(mask)[:,:,1]\n",
        "    mask = resize(mask, (256, 256, 1), mode='constant', preserve_range=True)\n",
        "    \n",
        "    #Normalise images\n",
        "    y_val[n] = mask/255.0"
      ],
      "metadata": {
        "colab": {
          "base_uri": "https://localhost:8080/",
          "height": 81,
          "referenced_widgets": [
            "71930826f0d0405992a1c22677f8d8ff",
            "2773865cadcd44f49e4b15646cfcf34a",
            "dd66fb2e22184df680067b022682f0d3",
            "8e6632b3cef545819bda639486a1c919",
            "edeaf4b216534ae3a0d562297db0b997",
            "5676dd67310a4a6b8fb9a249af58770a",
            "424bd214f7ec4d2897856a57002cd95e",
            "52f9df3054ed471186516028de458d12",
            "382b035dee714ef299923b26c778bf0a",
            "14916d2c061b45be86e14d0f84064cfd",
            "5d687037c6e24d74b49601cdb7732bd2",
            "13ef981febfa450892da31506628547d",
            "9b8fd4bb88ab440691548b3ac0021b29",
            "5d665635717f4166a05857caba089845",
            "9c8634a97fe542be808ef621248b578b",
            "6509f73a9892413dba3c4b4315e65f55",
            "e23b6410e673412da60e267c98f31aa3",
            "5cff82b1c77b451483c50181b33f5d04",
            "20dac9840b5c41de880a1f9eafc6ef6c",
            "b77ef9763c7449009d67417bdbd1928e",
            "00082b8db90b43e5ba5c907b04fd193e",
            "823995a2be564dc1a0c3a5d78ecf7da4"
          ]
        },
        "id": "b81K8n9f_aNT",
        "outputId": "6afa9081-4f8d-4d74-a76e-382bf3070e8a"
      },
      "execution_count": null,
      "outputs": [
        {
          "output_type": "display_data",
          "data": {
            "text/plain": [
              "  0%|          | 0/400 [00:00<?, ?it/s]"
            ],
            "application/vnd.jupyter.widget-view+json": {
              "version_major": 2,
              "version_minor": 0,
              "model_id": "71930826f0d0405992a1c22677f8d8ff"
            }
          },
          "metadata": {}
        },
        {
          "output_type": "display_data",
          "data": {
            "text/plain": [
              "  0%|          | 0/400 [00:00<?, ?it/s]"
            ],
            "application/vnd.jupyter.widget-view+json": {
              "version_major": 2,
              "version_minor": 0,
              "model_id": "13ef981febfa450892da31506628547d"
            }
          },
          "metadata": {}
        }
      ]
    },
    {
      "cell_type": "code",
      "source": [
        "#Check if validation data looks okay\n",
        "\n",
        "ix = 300\n",
        "plt.imshow(np.dstack((X_val[ix], X_val[ix], X_val[ix])))\n",
        "plt.axis('off')\n",
        "plt.show()\n",
        "\n",
        "tmp = np.squeeze(y_val[ix]).astype(np.float32)\n",
        "plt.imshow(np.dstack((tmp, tmp, tmp)))\n",
        "plt.axis('off')\n",
        "plt.show()"
      ],
      "metadata": {
        "colab": {
          "base_uri": "https://localhost:8080/",
          "height": 479
        },
        "id": "MCyoEyPK_cKY",
        "outputId": "96faeb0b-7ba4-4899-8ef0-d823bb367ab9"
      },
      "execution_count": null,
      "outputs": [
        {
          "output_type": "display_data",
          "data": {
            "text/plain": [
              "<Figure size 432x288 with 1 Axes>"
            ],
            "image/png": "[encoded data removed]"
          },
          "metadata": {
            "needs_background": "light"
          }
        },
        {
          "output_type": "display_data",
          "data": {
            "text/plain": [
              "<Figure size 432x288 with 1 Axes>"
            ],
            "image/png": "[encoded data removed]"
          },
          "metadata": {
            "needs_background": "light"
          }
        }
      ]
    },
    {
      "cell_type": "code",
      "source": [
        "val_tar_ids[300]"
      ],
      "metadata": {
        "colab": {
          "base_uri": "https://localhost:8080/",
          "height": 35
        },
        "id": "NW_2ZzFH_ePe",
        "outputId": "f6b9eb0c-43f8-4e75-c137-aac35b5ba85f"
      },
      "execution_count": null,
      "outputs": [
        {
          "output_type": "execute_result",
          "data": {
            "text/plain": [
              "'516two_obj_true.tiff'"
            ],
            "application/vnd.google.colaboratory.intrinsic+json": {
              "type": "string"
            }
          },
          "metadata": {},
          "execution_count": 23
        }
      ]
    },
    {
      "cell_type": "code",
      "source": [
        "val_train_ids[300]"
      ],
      "metadata": {
        "colab": {
          "base_uri": "https://localhost:8080/",
          "height": 35
        },
        "id": "_UT8Dr1pCBjB",
        "outputId": "3708b5c9-a9b3-4add-dfbe-f37ca91e4f0c"
      },
      "execution_count": null,
      "outputs": [
        {
          "output_type": "execute_result",
          "data": {
            "text/plain": [
              "'516two_obj_app_res.tiff'"
            ],
            "application/vnd.google.colaboratory.intrinsic+json": {
              "type": "string"
            }
          },
          "metadata": {},
          "execution_count": 24
        }
      ]
    },
    {
      "cell_type": "code",
      "source": [
        "(X_val[300] == 1).sum()"
      ],
      "metadata": {
        "id": "VaWOrSzvgjUB",
        "colab": {
          "base_uri": "https://localhost:8080/"
        },
        "outputId": "caf35f1f-8e4f-4e48-d930-0d3bf9d6a0b5"
      },
      "execution_count": null,
      "outputs": [
        {
          "output_type": "execute_result",
          "data": {
            "text/plain": [
              "6739"
            ]
          },
          "metadata": {},
          "execution_count": 21
        }
      ]
    },
    {
      "cell_type": "code",
      "source": [
        "!pip install tensorflow==2.8\n",
        "!apt install --allow-change-held-packages libcudnn8=8.1.0.77-1+cuda11.2"
      ],
      "metadata": {
        "colab": {
          "base_uri": "https://localhost:8080/",
          "height": 1000
        },
        "id": "wKmlRhVqYS0D",
        "outputId": "fdc4238c-3680-4892-9bc8-e6bf1012d492"
      },
      "execution_count": null,
      "outputs": [
        {
          "output_type": "stream",
          "name": "stdout",
          "text": [
            "Looking in indexes: https://pypi.org/simple, https://us-python.pkg.dev/colab-wheels/public/simple/\n",
            "Collecting tensorflow==2.8\n",
            "  Downloading https://us-python.pkg.dev/colab-wheels/public/tensorflow/tensorflow-2.8.0%2Bzzzcolab20220506162203-cp37-cp37m-linux_x86_64.whl (668.3 MB)\n",
            "\u001b[K     |████████████████████████████████| 668.3 MB 17 kB/s \n",
            "\u001b[?25hRequirement already satisfied: tensorflow-io-gcs-filesystem>=0.23.1 in /usr/local/lib/python3.7/dist-packages (from tensorflow==2.8) (0.26.0)\n",
            "Requirement already satisfied: astunparse>=1.6.0 in /usr/local/lib/python3.7/dist-packages (from tensorflow==2.8) (1.6.3)\n",
            "Requirement already satisfied: termcolor>=1.1.0 in /usr/local/lib/python3.7/dist-packages (from tensorflow==2.8) (1.1.0)\n",
            "Requirement already satisfied: google-pasta>=0.1.1 in /usr/local/lib/python3.7/dist-packages (from tensorflow==2.8) (0.2.0)\n",
            "Requirement already satisfied: absl-py>=0.4.0 in /usr/local/lib/python3.7/dist-packages (from tensorflow==2.8) (1.2.0)\n",
            "Collecting keras<2.9,>=2.8.0rc0\n",
            "  Downloading keras-2.8.0-py2.py3-none-any.whl (1.4 MB)\n",
            "\u001b[K     |████████████████████████████████| 1.4 MB 4.0 MB/s \n",
            "\u001b[?25hRequirement already satisfied: flatbuffers>=1.12 in /usr/local/lib/python3.7/dist-packages (from tensorflow==2.8) (1.12)\n",
            "Requirement already satisfied: numpy>=1.20 in /usr/local/lib/python3.7/dist-packages (from tensorflow==2.8) (1.21.6)\n",
            "Requirement already satisfied: keras-preprocessing>=1.1.1 in /usr/local/lib/python3.7/dist-packages (from tensorflow==2.8) (1.1.2)\n",
            "Requirement already satisfied: h5py>=2.9.0 in /usr/local/lib/python3.7/dist-packages (from tensorflow==2.8) (3.1.0)\n",
            "Requirement already satisfied: grpcio<2.0,>=1.24.3 in /usr/local/lib/python3.7/dist-packages (from tensorflow==2.8) (1.47.0)\n",
            "Requirement already satisfied: wrapt>=1.11.0 in /usr/local/lib/python3.7/dist-packages (from tensorflow==2.8) (1.14.1)\n",
            "Requirement already satisfied: six>=1.12.0 in /usr/local/lib/python3.7/dist-packages (from tensorflow==2.8) (1.15.0)\n",
            "Collecting tf-estimator-nightly==2.8.0.dev2021122109\n",
            "  Downloading tf_estimator_nightly-2.8.0.dev2021122109-py2.py3-none-any.whl (462 kB)\n",
            "\u001b[K     |████████████████████████████████| 462 kB 66.1 MB/s \n",
            "\u001b[?25hCollecting tensorboard<2.9,>=2.8\n",
            "  Downloading tensorboard-2.8.0-py3-none-any.whl (5.8 MB)\n",
            "\u001b[K     |████████████████████████████████| 5.8 MB 18.5 MB/s \n",
            "\u001b[?25hRequirement already satisfied: gast>=0.2.1 in /usr/local/lib/python3.7/dist-packages (from tensorflow==2.8) (0.4.0)\n",
            "Requirement already satisfied: opt-einsum>=2.3.2 in /usr/local/lib/python3.7/dist-packages (from tensorflow==2.8) (3.3.0)\n",
            "Requirement already satisfied: libclang>=9.0.1 in /usr/local/lib/python3.7/dist-packages (from tensorflow==2.8) (14.0.6)\n",
            "Requirement already satisfied: protobuf>=3.9.2 in /usr/local/lib/python3.7/dist-packages (from tensorflow==2.8) (3.17.3)\n",
            "Requirement already satisfied: typing-extensions>=3.6.6 in /usr/local/lib/python3.7/dist-packages (from tensorflow==2.8) (4.1.1)\n",
            "Requirement already satisfied: setuptools in /usr/local/lib/python3.7/dist-packages (from tensorflow==2.8) (57.4.0)\n",
            "Requirement already satisfied: wheel<1.0,>=0.23.0 in /usr/local/lib/python3.7/dist-packages (from astunparse>=1.6.0->tensorflow==2.8) (0.37.1)\n",
            "Requirement already satisfied: cached-property in /usr/local/lib/python3.7/dist-packages (from h5py>=2.9.0->tensorflow==2.8) (1.5.2)\n",
            "Requirement already satisfied: werkzeug>=0.11.15 in /usr/local/lib/python3.7/dist-packages (from tensorboard<2.9,>=2.8->tensorflow==2.8) (1.0.1)\n",
            "Requirement already satisfied: google-auth<3,>=1.6.3 in /usr/local/lib/python3.7/dist-packages (from tensorboard<2.9,>=2.8->tensorflow==2.8) (1.35.0)\n",
            "Requirement already satisfied: markdown>=2.6.8 in /usr/local/lib/python3.7/dist-packages (from tensorboard<2.9,>=2.8->tensorflow==2.8) (3.4.1)\n",
            "Requirement already satisfied: google-auth-oauthlib<0.5,>=0.4.1 in /usr/local/lib/python3.7/dist-packages (from tensorboard<2.9,>=2.8->tensorflow==2.8) (0.4.6)\n",
            "Requirement already satisfied: tensorboard-data-server<0.7.0,>=0.6.0 in /usr/local/lib/python3.7/dist-packages (from tensorboard<2.9,>=2.8->tensorflow==2.8) (0.6.1)\n",
            "Requirement already satisfied: requests<3,>=2.21.0 in /usr/local/lib/python3.7/dist-packages (from tensorboard<2.9,>=2.8->tensorflow==2.8) (2.23.0)\n",
            "Requirement already satisfied: tensorboard-plugin-wit>=1.6.0 in /usr/local/lib/python3.7/dist-packages (from tensorboard<2.9,>=2.8->tensorflow==2.8) (1.8.1)\n",
            "Requirement already satisfied: rsa<5,>=3.1.4 in /usr/local/lib/python3.7/dist-packages (from google-auth<3,>=1.6.3->tensorboard<2.9,>=2.8->tensorflow==2.8) (4.9)\n",
            "Requirement already satisfied: pyasn1-modules>=0.2.1 in /usr/local/lib/python3.7/dist-packages (from google-auth<3,>=1.6.3->tensorboard<2.9,>=2.8->tensorflow==2.8) (0.2.8)\n",
            "Requirement already satisfied: cachetools<5.0,>=2.0.0 in /usr/local/lib/python3.7/dist-packages (from google-auth<3,>=1.6.3->tensorboard<2.9,>=2.8->tensorflow==2.8) (4.2.4)\n",
            "Requirement already satisfied: requests-oauthlib>=0.7.0 in /usr/local/lib/python3.7/dist-packages (from google-auth-oauthlib<0.5,>=0.4.1->tensorboard<2.9,>=2.8->tensorflow==2.8) (1.3.1)\n",
            "Requirement already satisfied: importlib-metadata>=4.4 in /usr/local/lib/python3.7/dist-packages (from markdown>=2.6.8->tensorboard<2.9,>=2.8->tensorflow==2.8) (4.12.0)\n",
            "Requirement already satisfied: zipp>=0.5 in /usr/local/lib/python3.7/dist-packages (from importlib-metadata>=4.4->markdown>=2.6.8->tensorboard<2.9,>=2.8->tensorflow==2.8) (3.8.1)\n",
            "Requirement already satisfied: pyasn1<0.5.0,>=0.4.6 in /usr/local/lib/python3.7/dist-packages (from pyasn1-modules>=0.2.1->google-auth<3,>=1.6.3->tensorboard<2.9,>=2.8->tensorflow==2.8) (0.4.8)\n",
            "Requirement already satisfied: chardet<4,>=3.0.2 in /usr/local/lib/python3.7/dist-packages (from requests<3,>=2.21.0->tensorboard<2.9,>=2.8->tensorflow==2.8) (3.0.4)\n",
            "Requirement already satisfied: certifi>=2017.4.17 in /usr/local/lib/python3.7/dist-packages (from requests<3,>=2.21.0->tensorboard<2.9,>=2.8->tensorflow==2.8) (2022.6.15)\n",
            "Requirement already satisfied: urllib3!=1.25.0,!=1.25.1,<1.26,>=1.21.1 in /usr/local/lib/python3.7/dist-packages (from requests<3,>=2.21.0->tensorboard<2.9,>=2.8->tensorflow==2.8) (1.24.3)\n",
            "Requirement already satisfied: idna<3,>=2.5 in /usr/local/lib/python3.7/dist-packages (from requests<3,>=2.21.0->tensorboard<2.9,>=2.8->tensorflow==2.8) (2.10)\n",
            "Requirement already satisfied: oauthlib>=3.0.0 in /usr/local/lib/python3.7/dist-packages (from requests-oauthlib>=0.7.0->google-auth-oauthlib<0.5,>=0.4.1->tensorboard<2.9,>=2.8->tensorflow==2.8) (3.2.0)\n",
            "Installing collected packages: tf-estimator-nightly, tensorboard, keras, tensorflow\n",
            "  Attempting uninstall: tensorboard\n",
            "    Found existing installation: tensorboard 2.9.1\n",
            "    Uninstalling tensorboard-2.9.1:\n",
            "      Successfully uninstalled tensorboard-2.9.1\n",
            "  Attempting uninstall: keras\n",
            "    Found existing installation: keras 2.9.0\n",
            "    Uninstalling keras-2.9.0:\n",
            "      Successfully uninstalled keras-2.9.0\n",
            "  Attempting uninstall: tensorflow\n",
            "    Found existing installation: tensorflow 2.9.1\n",
            "    Uninstalling tensorflow-2.9.1:\n",
            "      Successfully uninstalled tensorflow-2.9.1\n",
            "Successfully installed keras-2.8.0 tensorboard-2.8.0 tensorflow-2.8.0+zzzcolab20220506162203 tf-estimator-nightly-2.8.0.dev2021122109\n"
          ]
        },
        {
          "output_type": "display_data",
          "data": {
            "application/vnd.colab-display-data+json": {
              "pip_warning": {
                "packages": [
                  "keras",
                  "tensorboard",
                  "tensorflow"
                ]
              }
            }
          },
          "metadata": {}
        },
        {
          "output_type": "stream",
          "name": "stdout",
          "text": [
            "Reading package lists... Done\n",
            "Building dependency tree       \n",
            "Reading state information... Done\n",
            "The following package was automatically installed and is no longer required:\n",
            "  libnvidia-common-460\n",
            "Use 'apt autoremove' to remove it.\n",
            "The following packages will be REMOVED:\n",
            "  libcudnn8-dev\n",
            "The following held packages will be changed:\n",
            "  libcudnn8\n",
            "The following packages will be upgraded:\n",
            "  libcudnn8\n",
            "1 upgraded, 0 newly installed, 1 to remove and 18 not upgraded.\n",
            "Need to get 430 MB of archives.\n",
            "After this operation, 3,139 MB disk space will be freed.\n",
            "Get:1 https://developer.download.nvidia.com/compute/cuda/repos/ubuntu1804/x86_64  libcudnn8 8.1.0.77-1+cuda11.2 [430 MB]\n",
            "Fetched 430 MB in 6s (66.8 MB/s)\n",
            "debconf: apt-extracttemplates failed: No such file or directory\n",
            "E: Sub-process /usr/sbin/dpkg-preconfigure --apt || true received signal 2.\n",
            "E: Failure running script /usr/sbin/dpkg-preconfigure --apt || true\n"
          ]
        }
      ]
    },
    {
      "cell_type": "code",
      "source": [
        "#Jaccard Distance Loss Metric\n",
        "\n",
        "def jaccard_distance_loss(y_true, y_pred, smooth=100):\n",
        " \n",
        "    intersection = K.sum(K.sum(K.abs(y_true * y_pred), axis=-1))\n",
        "    sum_ = K.sum(K.sum(K.abs(y_true) + K.abs(y_pred), axis=-1))\n",
        "    jac = (intersection + smooth) / (sum_ - intersection + smooth)\n",
        "    return (1 - jac) * smooth"
      ],
      "metadata": {
        "id": "TGqbYQh5pjCy"
      },
      "execution_count": null,
      "outputs": []
    },
    {
      "cell_type": "markdown",
      "source": [
        "**Build Model**"
      ],
      "metadata": {
        "id": "4pgWiaAOCMXe"
      }
    },
    {
      "cell_type": "code",
      "source": [
        "def build_model():\n",
        "    # 256 -> 128\n",
        "    c1 = Conv2D(16, (3, 3), activation=\"relu\", padding=\"same\", kernel_initializer='he_normal')(input_layer)\n",
        "    c1 = Conv2D(16, (3, 3), activation=\"relu\", padding=\"same\", kernel_initializer='he_normal')(c1)\n",
        "    c1 = BatchNormalization()(c1)\n",
        "    p1 = MaxPooling2D((2, 2))(c1)\n",
        "    p1 = Dropout(0.4)(p1)\n",
        "\n",
        "    # 128 -> 64\n",
        "    c2 = Conv2D(32, (3, 3), activation=\"relu\", padding=\"same\", kernel_initializer='he_normal')(p1)\n",
        "    c2 = Conv2D(32, (3, 3), activation=\"relu\", padding=\"same\", kernel_initializer='he_normal')(c2)\n",
        "    c2 = BatchNormalization()(c2)\n",
        "    p2 = MaxPooling2D((2, 2))(c2)\n",
        "    p2 = Dropout(0.4)(p2)\n",
        "\n",
        "    #64 -> 32\n",
        "    c3 = Conv2D(64, (3, 3), activation=\"relu\", padding=\"same\", kernel_initializer='he_normal')(p2)\n",
        "    c3 = Conv2D(64, (3, 3), activation=\"relu\", padding=\"same\", kernel_initializer='he_normal')(c3)\n",
        "    c3 = BatchNormalization()(c3)\n",
        "    p3 = MaxPooling2D((2, 2))(c3)\n",
        "    p3 = Dropout(0.4)(p3)\n",
        "\n",
        "    # 32 -> 16\n",
        "    c4 = Conv2D(128, (3, 3), activation=\"relu\", padding=\"same\", kernel_initializer='he_normal')(p3)\n",
        "    c4 = Conv2D(128, (3, 3), activation=\"relu\", padding=\"same\", kernel_initializer='he_normal')(c4)\n",
        "    c4 = BatchNormalization()(c4)\n",
        "    p4 = MaxPooling2D((2, 2))(c4)\n",
        "    p4 = Dropout(0.4)(p4)\n",
        "\n",
        "    # Middle\n",
        "    convm = Conv2D(256, (3, 3), activation=\"relu\", padding=\"same\", kernel_initializer='he_normal')(p4)\n",
        "    convm = Conv2D(256, (3, 3), activation=\"relu\", padding=\"same\", kernel_initializer='he_normal')(convm)\n",
        "    convm = BatchNormalization()(convm)\n",
        "\n",
        "    # 16 -> 32\n",
        "    d4 = Conv2DTranspose(128, (3, 3), strides=(2, 2), padding=\"same\", kernel_initializer='he_normal')(convm)\n",
        "    m4 = concatenate([c4, d4], axis=3)\n",
        "    u4 = Conv2D(128, (3, 3), activation=\"relu\", padding=\"same\", kernel_initializer='he_normal')(m4)\n",
        "    u4 = Conv2D(128, (3, 3), activation=\"relu\", padding=\"same\", kernel_initializer='he_normal')(u4)\n",
        "    u4 = BatchNormalization()(u4)\n",
        "\n",
        "    # 32 -> 64\n",
        "    d3 = Conv2DTranspose(64, (3, 3), strides=(2, 2), padding=\"same\", kernel_initializer='he_normal')(u4)\n",
        "    m3 = concatenate([c3, d3], axis=3)\n",
        "    u3 = Conv2D(64, (3, 3), activation=\"relu\", padding=\"same\", kernel_initializer='he_normal')(m3)\n",
        "    u3 = Conv2D(64, (3, 3), activation=\"relu\", padding=\"same\", kernel_initializer='he_normal')(u3)\n",
        "    u3 = BatchNormalization()(u3)\n",
        "\n",
        "    # 64 -> 128\n",
        "    d2 = Conv2DTranspose(32, (3, 3), strides=(2, 2), padding=\"same\", kernel_initializer='he_normal')(u3)\n",
        "    m2 = concatenate([c2, d2], axis=3)\n",
        "    u2 = Conv2D(32, (3, 3), activation=\"relu\", padding=\"same\", kernel_initializer='he_normal')(m2)\n",
        "    u2 = Conv2D(32, (3, 3), activation=\"relu\", padding=\"same\", kernel_initializer='he_normal')(u2)\n",
        "    u2 = BatchNormalization()(u2)\n",
        " \n",
        "    #128 -> 256\n",
        "    d1 = Conv2DTranspose(16, (3, 3), strides=(2, 2), padding=\"same\", kernel_initializer='he_normal')(u2)\n",
        "    m1 = concatenate([c1, d1], axis=3)\n",
        "    u1 = Conv2D(16, (3, 3), activation=\"relu\", padding=\"same\", kernel_initializer='he_normal')(m1)\n",
        "    u1 = Conv2D(16, (3, 3), activation=\"relu\", padding=\"same\", kernel_initializer='he_normal')(u1)\n",
        "    u1 = BatchNormalization()(u1)\n",
        "\n",
        "    output_layer = Conv2D(1, (1,1), activation=\"relu\")(u1)\n",
        "    \n",
        "    return output_layer\n",
        "\n",
        "  \n",
        "input_layer = Input((256, 256, 1))\n",
        "output_layer = build_model()"
      ],
      "metadata": {
        "id": "hHXmWxuFCQpX"
      },
      "execution_count": null,
      "outputs": []
    },
    {
      "cell_type": "code",
      "source": [
        "model = Model(input_layer, output_layer)\n",
        "model.compile(loss=[weighted_bce], \n",
        "              optimizer=keras.optimizers.Adam(learning_rate=3e-5), metrics=[keras.metrics.RootMeanSquaredError(), jaccard_distance_loss])\n",
        "model.summary()"
      ],
      "metadata": {
        "colab": {
          "base_uri": "https://localhost:8080/"
        },
        "id": "iMsxS3CaOzz4",
        "outputId": "62a86277-dc34-4a24-8ac8-4aeeca14e18d"
      },
      "execution_count": null,
      "outputs": [
        {
          "output_type": "stream",
          "name": "stdout",
          "text": [
            "Model: \"model_1\"\n",
            "__________________________________________________________________________________________________\n",
            " Layer (type)                   Output Shape         Param #     Connected to                     \n",
            "==================================================================================================\n",
            " input_1 (InputLayer)           [(None, 256, 256, 1  0           []                               \n",
            "                                )]                                                                \n",
            "                                                                                                  \n",
            " conv2d (Conv2D)                (None, 256, 256, 16  160         ['input_1[0][0]']                \n",
            "                                )                                                                 \n",
            "                                                                                                  \n",
            " conv2d_1 (Conv2D)              (None, 256, 256, 16  2320        ['conv2d[0][0]']                 \n",
            "                                )                                                                 \n",
            "                                                                                                  \n",
            " batch_normalization (BatchNorm  (None, 256, 256, 16  64         ['conv2d_1[0][0]']               \n",
            " alization)                     )                                                                 \n",
            "                                                                                                  \n",
            " max_pooling2d (MaxPooling2D)   (None, 128, 128, 16  0           ['batch_normalization[0][0]']    \n",
            "                                )                                                                 \n",
            "                                                                                                  \n",
            " dropout (Dropout)              (None, 128, 128, 16  0           ['max_pooling2d[0][0]']          \n",
            "                                )                                                                 \n",
            "                                                                                                  \n",
            " conv2d_2 (Conv2D)              (None, 128, 128, 32  4640        ['dropout[0][0]']                \n",
            "                                )                                                                 \n",
            "                                                                                                  \n",
            " conv2d_3 (Conv2D)              (None, 128, 128, 32  9248        ['conv2d_2[0][0]']               \n",
            "                                )                                                                 \n",
            "                                                                                                  \n",
            " batch_normalization_1 (BatchNo  (None, 128, 128, 32  128        ['conv2d_3[0][0]']               \n",
            " rmalization)                   )                                                                 \n",
            "                                                                                                  \n",
            " max_pooling2d_1 (MaxPooling2D)  (None, 64, 64, 32)  0           ['batch_normalization_1[0][0]']  \n",
            "                                                                                                  \n",
            " dropout_1 (Dropout)            (None, 64, 64, 32)   0           ['max_pooling2d_1[0][0]']        \n",
            "                                                                                                  \n",
            " conv2d_4 (Conv2D)              (None, 64, 64, 64)   18496       ['dropout_1[0][0]']              \n",
            "                                                                                                  \n",
            " conv2d_5 (Conv2D)              (None, 64, 64, 64)   36928       ['conv2d_4[0][0]']               \n",
            "                                                                                                  \n",
            " batch_normalization_2 (BatchNo  (None, 64, 64, 64)  256         ['conv2d_5[0][0]']               \n",
            " rmalization)                                                                                     \n",
            "                                                                                                  \n",
            " max_pooling2d_2 (MaxPooling2D)  (None, 32, 32, 64)  0           ['batch_normalization_2[0][0]']  \n",
            "                                                                                                  \n",
            " dropout_2 (Dropout)            (None, 32, 32, 64)   0           ['max_pooling2d_2[0][0]']        \n",
            "                                                                                                  \n",
            " conv2d_6 (Conv2D)              (None, 32, 32, 128)  73856       ['dropout_2[0][0]']              \n",
            "                                                                                                  \n",
            " conv2d_7 (Conv2D)              (None, 32, 32, 128)  147584      ['conv2d_6[0][0]']               \n",
            "                                                                                                  \n",
            " batch_normalization_3 (BatchNo  (None, 32, 32, 128)  512        ['conv2d_7[0][0]']               \n",
            " rmalization)                                                                                     \n",
            "                                                                                                  \n",
            " max_pooling2d_3 (MaxPooling2D)  (None, 16, 16, 128)  0          ['batch_normalization_3[0][0]']  \n",
            "                                                                                                  \n",
            " dropout_3 (Dropout)            (None, 16, 16, 128)  0           ['max_pooling2d_3[0][0]']        \n",
            "                                                                                                  \n",
            " conv2d_8 (Conv2D)              (None, 16, 16, 256)  295168      ['dropout_3[0][0]']              \n",
            "                                                                                                  \n",
            " conv2d_9 (Conv2D)              (None, 16, 16, 256)  590080      ['conv2d_8[0][0]']               \n",
            "                                                                                                  \n",
            " batch_normalization_4 (BatchNo  (None, 16, 16, 256)  1024       ['conv2d_9[0][0]']               \n",
            " rmalization)                                                                                     \n",
            "                                                                                                  \n",
            " conv2d_transpose (Conv2DTransp  (None, 32, 32, 128)  295040     ['batch_normalization_4[0][0]']  \n",
            " ose)                                                                                             \n",
            "                                                                                                  \n",
            " concatenate (Concatenate)      (None, 32, 32, 256)  0           ['batch_normalization_3[0][0]',  \n",
            "                                                                  'conv2d_transpose[0][0]']       \n",
            "                                                                                                  \n",
            " conv2d_10 (Conv2D)             (None, 32, 32, 128)  295040      ['concatenate[0][0]']            \n",
            "                                                                                                  \n",
            " conv2d_11 (Conv2D)             (None, 32, 32, 128)  147584      ['conv2d_10[0][0]']              \n",
            "                                                                                                  \n",
            " batch_normalization_5 (BatchNo  (None, 32, 32, 128)  512        ['conv2d_11[0][0]']              \n",
            " rmalization)                                                                                     \n",
            "                                                                                                  \n",
            " conv2d_transpose_1 (Conv2DTran  (None, 64, 64, 64)  73792       ['batch_normalization_5[0][0]']  \n",
            " spose)                                                                                           \n",
            "                                                                                                  \n",
            " concatenate_1 (Concatenate)    (None, 64, 64, 128)  0           ['batch_normalization_2[0][0]',  \n",
            "                                                                  'conv2d_transpose_1[0][0]']     \n",
            "                                                                                                  \n",
            " conv2d_12 (Conv2D)             (None, 64, 64, 64)   73792       ['concatenate_1[0][0]']          \n",
            "                                                                                                  \n",
            " conv2d_13 (Conv2D)             (None, 64, 64, 64)   36928       ['conv2d_12[0][0]']              \n",
            "                                                                                                  \n",
            " batch_normalization_6 (BatchNo  (None, 64, 64, 64)  256         ['conv2d_13[0][0]']              \n",
            " rmalization)                                                                                     \n",
            "                                                                                                  \n",
            " conv2d_transpose_2 (Conv2DTran  (None, 128, 128, 32  18464      ['batch_normalization_6[0][0]']  \n",
            " spose)                         )                                                                 \n",
            "                                                                                                  \n",
            " concatenate_2 (Concatenate)    (None, 128, 128, 64  0           ['batch_normalization_1[0][0]',  \n",
            "                                )                                 'conv2d_transpose_2[0][0]']     \n",
            "                                                                                                  \n",
            " conv2d_14 (Conv2D)             (None, 128, 128, 32  18464       ['concatenate_2[0][0]']          \n",
            "                                )                                                                 \n",
            "                                                                                                  \n",
            " conv2d_15 (Conv2D)             (None, 128, 128, 32  9248        ['conv2d_14[0][0]']              \n",
            "                                )                                                                 \n",
            "                                                                                                  \n",
            " batch_normalization_7 (BatchNo  (None, 128, 128, 32  128        ['conv2d_15[0][0]']              \n",
            " rmalization)                   )                                                                 \n",
            "                                                                                                  \n",
            " conv2d_transpose_3 (Conv2DTran  (None, 256, 256, 16  4624       ['batch_normalization_7[0][0]']  \n",
            " spose)                         )                                                                 \n",
            "                                                                                                  \n",
            " concatenate_3 (Concatenate)    (None, 256, 256, 32  0           ['batch_normalization[0][0]',    \n",
            "                                )                                 'conv2d_transpose_3[0][0]']     \n",
            "                                                                                                  \n",
            " conv2d_16 (Conv2D)             (None, 256, 256, 16  4624        ['concatenate_3[0][0]']          \n",
            "                                )                                                                 \n",
            "                                                                                                  \n",
            " conv2d_17 (Conv2D)             (None, 256, 256, 16  2320        ['conv2d_16[0][0]']              \n",
            "                                )                                                                 \n",
            "                                                                                                  \n",
            " batch_normalization_8 (BatchNo  (None, 256, 256, 16  64         ['conv2d_17[0][0]']              \n",
            " rmalization)                   )                                                                 \n",
            "                                                                                                  \n",
            " conv2d_18 (Conv2D)             (None, 256, 256, 1)  17          ['batch_normalization_8[0][0]']  \n",
            "                                                                                                  \n",
            "==================================================================================================\n",
            "Total params: 2,161,361\n",
            "Trainable params: 2,159,889\n",
            "Non-trainable params: 1,472\n",
            "__________________________________________________________________________________________________\n"
          ]
        }
      ]
    },
    {
      "cell_type": "code",
      "source": [
        "#Train the model\n",
        "\n",
        "early_stopping = EarlyStopping(patience=7, verbose=1)\n",
        "model_checkpoint = ModelCheckpoint(\"UNetModelNEW.h5\", save_best_only=True, verbose=1)\n",
        "\n",
        "epochs = 100\n",
        "batch_size = 32\n",
        "\n",
        "history = model.fit(X, y, validation_data=[X_val, y_val], epochs=epochs, batch_size=batch_size, callbacks=[early_stopping, model_checkpoint])"
      ],
      "metadata": {
        "id": "tdR1qvobPjxM"
      },
      "execution_count": null,
      "outputs": []
    },
    {
      "cell_type": "code",
      "source": [
        "model = load_model(\"/content/UNetModelNEW.h5\", custom_objects={'jaccard_distance_loss':jaccard_distance_loss})"
      ],
      "metadata": {
        "id": "P2hV6f8dQQhi"
      },
      "execution_count": null,
      "outputs": []
    },
    {
      "cell_type": "code",
      "source": [
        "#Predict on train and val\n",
        "preds_train = model.predict(X, verbose=1)\n",
        "preds_val = model.predict(X_val, verbose=1)"
      ],
      "metadata": {
        "colab": {
          "base_uri": "https://localhost:8080/"
        },
        "id": "XxgWYIndQVe7",
        "outputId": "4e9941fa-a63e-42d3-9872-2556ffc1a45f"
      },
      "execution_count": null,
      "outputs": [
        {
          "output_type": "stream",
          "name": "stdout",
          "text": [
            "129/129 [==============================] - 6s 42ms/step\n",
            "13/13 [==============================] - 1s 42ms/step\n"
          ]
        }
      ]
    },
    {
      "cell_type": "code",
      "source": [
        "fig, (ax_loss, ax_jac, ax_rmse) = plt.subplots(1, 3, figsize=(15,5))\n",
        "ax_loss.plot(history.epoch, history.history[\"loss\"], label=\"Train loss\")\n",
        "ax_loss.plot(history.epoch, history.history[\"val_loss\"], label=\"Validation loss\")\n",
        "ax_loss.set_title('Basic UNET: Loss')\n",
        "ax_loss.legend()\n",
        "ax_loss.set_ylabel('Error')\n",
        "ax_loss.set_xlabel('Epoch')\n",
        "#ax_loss.xaxis.set_ticks(np.arange(0, 4, 1))\n",
        "\n",
        "ax_jac.plot(history.epoch, history.history[\"jaccard_distance_loss\"], label=\"Train Jac_Loss\")\n",
        "ax_jac.plot(history.epoch, history.history[\"val_jaccard_distance_loss\"], label=\"Validation Jac_Loss\")\n",
        "ax_jac.set_title('Basic UNET: Jaccard Distance Loss')\n",
        "ax_jac.legend()\n",
        "ax_jac.set_ylabel('Error')\n",
        "ax_jac.set_xlabel('Epoch')\n",
        "#ax_iou.xaxis.set_ticks(np.arange(0, 4, 1))\n",
        "\n",
        "\n",
        "ax_rmse.plot(history.epoch, history.history[\"root_mean_squared_error\"], label=\"Train RMSE\")\n",
        "ax_rmse.plot(history.epoch, history.history[\"val_root_mean_squared_error\"], label=\"Validation RMSE\")\n",
        "ax_rmse.set_title('Basic UNET: RMSE')\n",
        "ax_rmse.legend()\n",
        "ax_rmse.set_ylabel('Error')\n",
        "ax_rmse.set_xlabel('Epoch')\n",
        "#ax_rmse.xaxis.set_ticks(np.arange(0, 4, 1))\n",
        "\n",
        "fig.tight_layout()\n",
        "\n",
        "#from google.colab import files\n",
        "#plt.savefig('BasicUNET3.png')\n",
        "#files.download(\"BasicUNET3.png\") "
      ],
      "metadata": {
        "colab": {
          "base_uri": "https://localhost:8080/",
          "height": 369
        },
        "id": "S_LCjzVv1Wic",
        "outputId": "79a1a6e4-3f02-4c7e-f2b7-0db2a90177af"
      },
      "execution_count": null,
      "outputs": [
        {
          "output_type": "display_data",
          "data": {
            "text/plain": [
              "<IPython.core.display.Javascript object>"
            ],
            "application/javascript": [
              "\n",
              "    async function download(id, filename, size) {\n",
              "      if (!google.colab.kernel.accessAllowed) {\n",
              "        return;\n",
              "      }\n",
              "      const div = document.createElement('div');\n",
              "      const label = document.createElement('label');\n",
              "      label.textContent = `Downloading \"${filename}\": `;\n",
              "      div.appendChild(label);\n",
              "      const progress = document.createElement('progress');\n",
              "      progress.max = size;\n",
              "      div.appendChild(progress);\n",
              "      document.body.appendChild(div);\n",
              "\n",
              "      const buffers = [];\n",
              "      let downloaded = 0;\n",
              "\n",
              "      const channel = await google.colab.kernel.comms.open(id);\n",
              "      // Send a message to notify the kernel that we're ready.\n",
              "      channel.send({})\n",
              "\n",
              "      for await (const message of channel.messages) {\n",
              "        // Send a message to notify the kernel that we're ready.\n",
              "        channel.send({})\n",
              "        if (message.buffers) {\n",
              "          for (const buffer of message.buffers) {\n",
              "            buffers.push(buffer);\n",
              "            downloaded += buffer.byteLength;\n",
              "            progress.value = downloaded;\n",
              "          }\n",
              "        }\n",
              "      }\n",
              "      const blob = new Blob(buffers, {type: 'application/binary'});\n",
              "      const a = document.createElement('a');\n",
              "      a.href = window.URL.createObjectURL(blob);\n",
              "      a.download = filename;\n",
              "      div.appendChild(a);\n",
              "      a.click();\n",
              "      div.remove();\n",
              "    }\n",
              "  "
            ]
          },
          "metadata": {}
        },
        {
          "output_type": "display_data",
          "data": {
            "text/plain": [
              "<IPython.core.display.Javascript object>"
            ],
            "application/javascript": [
              "download(\"download_6e03a7b2-9140-4051-8f3a-68447d7d9652\", \"BasicUNET3.png\", 44786)"
            ]
          },
          "metadata": {}
        },
        {
          "output_type": "display_data",
          "data": {
            "text/plain": [
              "<Figure size 1080x360 with 3 Axes>"
            ],
            "image/png": "[encoded data removed]"
          },
          "metadata": {
            "needs_background": "light"
          }
        }
      ]
    },
    {
      "cell_type": "code",
      "source": [
        "# Perform a sanity check on some random training samples\n",
        "\n",
        "fig, (ax0, ax1, ax2) = plt.subplots(1, 3, figsize=(20, 10))\n",
        "\n",
        "norm = plt.Normalize(vmin=10, vmax=1200, clip=True)\n",
        "\n",
        "a = ax0.imshow(np.dstack((X[1000], X[1000], X[1000])), cmap='gray_r', norm=norm)\n",
        "ax0.set_title('Apparent Resistivity')\n",
        "ax0.axis('off')\n",
        "ab = fig.colorbar(a, ax=ax0, fraction=0.035, pad=0.04)\n",
        "ab.set_label('Resistivity in Ohms')\n",
        "\n",
        "tmp = np.squeeze(y[1000]).astype(np.float32)\n",
        "b = ax1.imshow(np.dstack((tmp,tmp,tmp)), cmap='gray_r', norm=norm)\n",
        "ax1.set_title('Ground Truth')\n",
        "ax1.axis('off')\n",
        "bb = fig.colorbar(b, ax=ax1, fraction=0.035, pad=0.04)\n",
        "bb.set_label('Resistivity in Ohms')\n",
        "\n",
        "tmp = np.squeeze(preds_train[1000]).astype(np.float32)\n",
        "c = ax2.imshow(np.dstack((tmp,tmp,tmp)), cmap='gray_r', norm=norm)\n",
        "ax2.set_title('CNN Prediction: Trained on Ground Truth')\n",
        "ax2.axis('off')\n",
        "cb = fig.colorbar(c, ax=ax2, fraction=0.035, pad=0.04)\n",
        "cb.set_label('Resistivity in Ohms')\n",
        "\n",
        "#from google.colab import files\n",
        "#plt.savefig(\"BasicUNetSwitchedVariables2.png\")\n",
        "#files.download(\"BasicUNetSwitchedVariables2.png\") "
      ],
      "metadata": {
        "colab": {
          "base_uri": "https://localhost:8080/",
          "height": 351
        },
        "id": "z_eM3q4zQXyZ",
        "outputId": "099337fa-f1e8-439a-b8f5-5a5a6fe66c16"
      },
      "execution_count": null,
      "outputs": [
        {
          "output_type": "display_data",
          "data": {
            "text/plain": [
              "<Figure size 1440x720 with 6 Axes>"
            ],
            "image/png": "[encoded data removed]"
          },
          "metadata": {
            "needs_background": "light"
          }
        }
      ]
    },
    {
      "cell_type": "code",
      "source": [
        "preds_train[1000]"
      ],
      "metadata": {
        "colab": {
          "base_uri": "https://localhost:8080/"
        },
        "id": "LT2Jfdc1cH3f",
        "outputId": "adf1d82a-11f0-426d-9643-ca4623e9bf2a"
      },
      "execution_count": null,
      "outputs": [
        {
          "output_type": "execute_result",
          "data": {
            "text/plain": [
              "array([[[0.11188219],\n",
              "        [0.37646237],\n",
              "        [0.3079113 ],\n",
              "        ...,\n",
              "        [0.37377346],\n",
              "        [0.35166514],\n",
              "        [0.20628798]],\n",
              "\n",
              "       [[0.2278893 ],\n",
              "        [0.40097588],\n",
              "        [0.33970866],\n",
              "        ...,\n",
              "        [0.35890576],\n",
              "        [0.4039198 ],\n",
              "        [0.3406551 ]],\n",
              "\n",
              "       [[0.454232  ],\n",
              "        [0.4728686 ],\n",
              "        [0.3796433 ],\n",
              "        ...,\n",
              "        [0.32088572],\n",
              "        [0.4362851 ],\n",
              "        [0.44192767]],\n",
              "\n",
              "       ...,\n",
              "\n",
              "       [[0.93286556],\n",
              "        [0.9500912 ],\n",
              "        [1.103144  ],\n",
              "        ...,\n",
              "        [0.997193  ],\n",
              "        [0.9568    ],\n",
              "        [0.87365216]],\n",
              "\n",
              "       [[0.89438164],\n",
              "        [0.9598656 ],\n",
              "        [1.0214199 ],\n",
              "        ...,\n",
              "        [0.9894952 ],\n",
              "        [0.9557124 ],\n",
              "        [0.9268427 ]],\n",
              "\n",
              "       [[0.8172359 ],\n",
              "        [0.8894981 ],\n",
              "        [0.87578464],\n",
              "        ...,\n",
              "        [0.8651241 ],\n",
              "        [0.93519765],\n",
              "        [0.8757269 ]]], dtype=float32)"
            ]
          },
          "metadata": {},
          "execution_count": 122
        }
      ]
    },
    {
      "cell_type": "code",
      "source": [
        "# Perform a sanity check on some random validation samples\n",
        "\n",
        "fig, (ax0, ax1, ax2) = plt.subplots(1, 3, figsize=(20, 10))\n",
        "\n",
        "ax0.imshow(np.dstack((X_val[300], X_val[300], X_val[300])))\n",
        "\n",
        "tmp = np.squeeze(y_val[300]).astype(np.float32)\n",
        "ax1.imshow(np.dstack((tmp,tmp,tmp)))\n",
        "\n",
        "tmp = np.squeeze(preds_val[300]).astype(np.float32)\n",
        "ax2.imshow(np.dstack((tmp,tmp,tmp)))\n",
        "#ax2.contourf(preds_val[50].squeeze(), extend='both', cmap='gray')"
      ],
      "metadata": {
        "colab": {
          "base_uri": "https://localhost:8080/",
          "height": 396
        },
        "id": "XJHJf_AydvB6",
        "outputId": "9eef888f-d4b1-44eb-8a38-5ca4e892c410"
      },
      "execution_count": null,
      "outputs": [
        {
          "output_type": "execute_result",
          "data": {
            "text/plain": [
              "<matplotlib.image.AxesImage at 0x7ff5e04d9750>"
            ]
          },
          "metadata": {},
          "execution_count": 41
        },
        {
          "output_type": "display_data",
          "data": {
            "text/plain": [
              "<Figure size 1440x720 with 3 Axes>"
            ],
            "image/png": "[encoded data removed]"
          },
          "metadata": {
            "needs_background": "light"
          }
        }
      ]
    },
    {
      "cell_type": "code",
      "source": [
        "preds_val[300]"
      ],
      "metadata": {
        "colab": {
          "base_uri": "https://localhost:8080/"
        },
        "id": "Qa3_gv11ipiY",
        "outputId": "ac86c15e-f0f3-4cfa-d391-8135fe905c76"
      },
      "execution_count": null,
      "outputs": [
        {
          "output_type": "execute_result",
          "data": {
            "text/plain": [
              "array([[[0.        ],\n",
              "        [0.3485753 ],\n",
              "        [0.18892318],\n",
              "        ...,\n",
              "        [0.32908192],\n",
              "        [0.34437847],\n",
              "        [0.20408502]],\n",
              "\n",
              "       [[0.2151992 ],\n",
              "        [0.3862756 ],\n",
              "        [0.3419033 ],\n",
              "        ...,\n",
              "        [0.34185076],\n",
              "        [0.35627687],\n",
              "        [0.40927085]],\n",
              "\n",
              "       [[0.4217478 ],\n",
              "        [0.48152506],\n",
              "        [0.4474152 ],\n",
              "        ...,\n",
              "        [0.3525763 ],\n",
              "        [0.5040744 ],\n",
              "        [0.5947504 ]],\n",
              "\n",
              "       ...,\n",
              "\n",
              "       [[0.93288034],\n",
              "        [0.9501055 ],\n",
              "        [1.1031631 ],\n",
              "        ...,\n",
              "        [0.99718744],\n",
              "        [0.95686316],\n",
              "        [0.8737888 ]],\n",
              "\n",
              "       [[0.89439166],\n",
              "        [0.95987594],\n",
              "        [1.0214413 ],\n",
              "        ...,\n",
              "        [0.98946005],\n",
              "        [0.9557492 ],\n",
              "        [0.926911  ]],\n",
              "\n",
              "       [[0.817247  ],\n",
              "        [0.8895044 ],\n",
              "        [0.87580276],\n",
              "        ...,\n",
              "        [0.86518735],\n",
              "        [0.9352521 ],\n",
              "        [0.8758275 ]]], dtype=float32)"
            ]
          },
          "metadata": {},
          "execution_count": 124
        }
      ]
    },
    {
      "cell_type": "code",
      "source": [
        "def weighted_bce(y_true, y_pred):\n",
        "  weights = (y_true * 59.) + 1.\n",
        "  bce = K.binary_crossentropy(y_true, y_pred)\n",
        "  weighted_bce = K.mean(bce * weights)\n",
        "  return weighted_bce"
      ],
      "metadata": {
        "id": "D0LhW2c6JNR8"
      },
      "execution_count": null,
      "outputs": []
    }
  ]
}